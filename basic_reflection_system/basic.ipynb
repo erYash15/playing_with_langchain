{
 "cells": [
  {
   "cell_type": "code",
   "execution_count": 7,
   "id": "8d24dc36",
   "metadata": {},
   "outputs": [
    {
     "name": "stdout",
     "output_type": "stream",
     "text": [
      "---\n",
      "config:\n",
      "  flowchart:\n",
      "    curve: linear\n",
      "---\n",
      "graph TD;\n",
      "\t__start__([<p>__start__</p>]):::first\n",
      "\tgenerate(generate)\n",
      "\treflect(reflect)\n",
      "\t__end__([<p>__end__</p>]):::last\n",
      "\t__start__ --> generate;\n",
      "\tgenerate -. &nbsp;END&nbsp; .-> __end__;\n",
      "\tgenerate -. &nbsp;REFLECT&nbsp; .-> reflect;\n",
      "\treflect --> generate;\n",
      "\tclassDef default fill:#f2f0ff,line-height:1.2\n",
      "\tclassDef first fill-opacity:0\n",
      "\tclassDef last fill:#bfb6fc\n",
      "\n",
      "          +-----------+            \n",
      "          | __start__ |            \n",
      "          +-----------+            \n",
      "                *                  \n",
      "                *                  \n",
      "                *                  \n",
      "          +----------+             \n",
      "          | generate |             \n",
      "          +----------+             \n",
      "          ...        ***           \n",
      "         .              *          \n",
      "       ..                **        \n",
      "+---------+           +---------+  \n",
      "| __end__ |           | reflect |  \n",
      "+---------+           +---------+  \n"
     ]
    }
   ],
   "source": [
    "from typing import List, Sequence, Literal\n",
    "from dotenv import load_dotenv\n",
    "from langchain_core.messages import HumanMessage, SystemMessage\n",
    "from langgraph.graph import END, MessageGraph\n",
    "from chains import generation_chain, reflection_chain\n",
    "\n",
    "load_dotenv()\n",
    "\n",
    "graph = MessageGraph()\n",
    "\n",
    "REFLECT = \"reflect\"\n",
    "GENERATE = \"generate\"\n",
    "\n",
    "def generate_node(state):\n",
    "    print(\"IN GENERATE NODE\")\n",
    "    return generation_chain.invoke({\n",
    "        \"messages\": state\n",
    "    })\n",
    "    \n",
    "def reflect_node(state):\n",
    "    print(\"IN REFLECT NODE\")\n",
    "    return reflection_chain.invoke({\n",
    "        \"messages\": state\n",
    "    })\n",
    "    \n",
    "\n",
    "graph.add_node(GENERATE, generate_node)\n",
    "graph.add_node(REFLECT, reflect_node)\n",
    "graph.set_entry_point(GENERATE)\n",
    "\n",
    "\n",
    "def should_continue(state):\n",
    "    if (len(state) > 6):\n",
    "        return \"END\" \n",
    "    return \"REFLECT\"\n",
    "\n",
    "\n",
    "graph.add_conditional_edges(GENERATE, should_continue, path_map={\n",
    "        \"REFLECT\": REFLECT,\n",
    "        \"END\": END\n",
    "    })\n",
    "\n",
    "graph.add_edge(REFLECT, GENERATE)\n",
    "\n",
    "app = graph.compile()\n",
    "\n",
    "print(app.get_graph().draw_mermaid())\n",
    "app.get_graph().print_ascii()\n"
   ]
  },
  {
   "cell_type": "code",
   "execution_count": 8,
   "id": "c2dfc429",
   "metadata": {},
   "outputs": [
    {
     "data": {
      "image/png": "[encoded data removed]",
      "text/plain": [
       "<langgraph.graph.state.CompiledStateGraph object at 0x10feeba60>"
      ]
     },
     "execution_count": 8,
     "metadata": {},
     "output_type": "execute_result"
    }
   ],
   "source": [
    "app"
   ]
  },
  {
   "cell_type": "code",
   "execution_count": 9,
   "id": "414c2364",
   "metadata": {},
   "outputs": [
    {
     "name": "stdout",
     "output_type": "stream",
     "text": [
      "IN GENERATE NODE\n",
      "IN REFLECT NODE\n",
      "IN GENERATE NODE\n",
      "IN REFLECT NODE\n",
      "IN GENERATE NODE\n",
      "IN REFLECT NODE\n",
      "IN GENERATE NODE\n",
      "[HumanMessage(content='AI Agents taking over content creation', additional_kwargs={}, response_metadata={}, id='95e451d7-31da-4464-89f7-16ef970ff7bd'), AIMessage(content='🚀✨ The future of content creation is here! 🤖🔥 AI agents are revolutionizing the way we produce, curate, and share content. From personalized articles to stunning visuals, these digital assistants are enhancing creativity and efficiency. Are you ready to embrace the AI revolution in your content strategy? 🌐✍️ #AI #ContentCreation #Innovation #TechTrends', additional_kwargs={'refusal': None}, response_metadata={'token_usage': {'completion_tokens': 75, 'prompt_tokens': 59, 'total_tokens': 134, 'completion_tokens_details': {'accepted_prediction_tokens': 0, 'audio_tokens': 0, 'reasoning_tokens': 0, 'rejected_prediction_tokens': 0}, 'prompt_tokens_details': {'audio_tokens': 0, 'cached_tokens': 0}}, 'model_name': 'gpt-4o-mini-2024-07-18', 'system_fingerprint': 'fp_34a54ae93c', 'finish_reason': 'stop', 'logprobs': None}, id='run--a4b7c304-a2c2-425d-89dd-00f8a720221e-0', usage_metadata={'input_tokens': 59, 'output_tokens': 75, 'total_tokens': 134, 'input_token_details': {'audio': 0, 'cache_read': 0}, 'output_token_details': {'audio': 0, 'reasoning': 0}}), AIMessage(content='**Critique of the Tweet:**\\n\\n1. **Length and Clarity**: The tweet is slightly on the longer side for Twitter\\'s character limit (280 characters). While it provides a comprehensive overview, it could be more concise to ensure it\\'s punchy and memorable, which is vital for virality.\\n\\n2. **Engagement**: The tweet does a good job of engaging the audience with questions like \"Are you ready to embrace the AI revolution?\" This is a strong element, as it invites followers to think and respond. However, it could benefit from a more direct call to action, encouraging retweets or shares.\\n\\n3. **Hashtags**: The hashtags used (#AI, #ContentCreation, #Innovation, #TechTrends) are relevant but could be more targeted. Using fewer, highly relevant hashtags could increase reach. Consider trending hashtags or specific niche tags that are currently popular in the conversation about AI and content creation.\\n\\n4. **Visuals**: The tweet mentions visuals but does not include any. Tweets with images or videos tend to perform better. Including a striking image, infographic, or a short video clip can enhance engagement dramatically.\\n\\n5. **Tone and Style**: The tone is enthusiastic and forward-looking, which is great. However, consider adding a touch of humor or a personal anecdote to make it more relatable. A human touch often resonates better with audiences.\\n\\n**Recommendations:**\\n\\n1. **Shorten the Tweet**: Aim for around 200-220 characters to keep it concise. You want it to be easy to read at a glance.\\n   \\n   Example:\\n   “AI agents are revolutionizing content creation! From tailored articles to stunning visuals, these digital assistants are boosting creativity. Are you ready for the AI takeover? 🤖✨ #AI #ContentCreation”\\n\\n2. **Refine Hashtags**: Choose 2-3 highly relevant hashtags rather than 4. Consider using trending hashtags. Check current Twitter trends related to AI and content creation before posting.\\n\\n3. **Add Visuals**: Include a relevant image or a short video clip that illustrates AI in action in content creation. Infographics summarizing AI\\'s impact on the industry can also be eye-catching.\\n\\n4. **Incorporate Humor or Anecdotes**: Add a light-hearted remark or a personal experience with AI content creation. This can make the tweet relatable and shareable.\\n\\n5. **Include a Clear Call to Action**: Encourage your audience to share their thoughts or experiences. For example, “What’s your take on AI in content creation? Share your thoughts below! 👇”\\n\\n**Final Tweet Example**:\\n“AI agents are reshaping content creation! 🤖✨ From personalized articles to jaw-dropping visuals, these assistants are here to boost creativity. What’s your take on the AI takeover? Share your thoughts below! 👇 #AI #ContentCreation”\\n\\nBy implementing these recommendations, your tweet will be more engaging, concise, and likely to go viral!', additional_kwargs={'refusal': None}, response_metadata={'token_usage': {'completion_tokens': 602, 'prompt_tokens': 131, 'total_tokens': 733, 'completion_tokens_details': {'accepted_prediction_tokens': 0, 'audio_tokens': 0, 'reasoning_tokens': 0, 'rejected_prediction_tokens': 0}, 'prompt_tokens_details': {'audio_tokens': 0, 'cached_tokens': 0}}, 'model_name': 'gpt-4o-mini-2024-07-18', 'system_fingerprint': 'fp_34a54ae93c', 'finish_reason': 'stop', 'logprobs': None}, id='run--2b7928d8-1bad-473d-bae7-5b98c7630d53-0', usage_metadata={'input_tokens': 131, 'output_tokens': 602, 'total_tokens': 733, 'input_token_details': {'audio': 0, 'cache_read': 0}, 'output_token_details': {'audio': 0, 'reasoning': 0}}), AIMessage(content='AI agents are reshaping content creation! 🤖✨ From personalized articles to jaw-dropping visuals, these assistants are boosting creativity and efficiency. What’s your take on the AI takeover? Share your thoughts below! 👇 #AI #ContentCreation', additional_kwargs={'refusal': None}, response_metadata={'token_usage': {'completion_tokens': 49, 'prompt_tokens': 744, 'total_tokens': 793, 'completion_tokens_details': {'accepted_prediction_tokens': 0, 'audio_tokens': 0, 'reasoning_tokens': 0, 'rejected_prediction_tokens': 0}, 'prompt_tokens_details': {'audio_tokens': 0, 'cached_tokens': 0}}, 'model_name': 'gpt-4o-mini-2024-07-18', 'system_fingerprint': 'fp_34a54ae93c', 'finish_reason': 'stop', 'logprobs': None}, id='run--f9f4e00f-2338-428a-b498-e4001fc4f3c9-0', usage_metadata={'input_tokens': 744, 'output_tokens': 49, 'total_tokens': 793, 'input_token_details': {'audio': 0, 'cache_read': 0}, 'output_token_details': {'audio': 0, 'reasoning': 0}}), AIMessage(content='**Critique of the Revised Tweet:**\\n\\n1. **Length and Clarity**: The revised tweet is concise and clear, effectively staying within the character limit while still conveying the message. This is essential for engagement on Twitter.\\n\\n2. **Engagement**: The question at the end invites responses, fostering engagement. This is crucial for increasing interactions, which can help the tweet gain traction.\\n\\n3. **Hashtags**: The hashtags used (#AI, #ContentCreation) are relevant and focused, which is good. However, consider adding one more specific or trending hashtag to broaden the reach, such as #DigitalMarketing or #TechTrends, depending on the audience you want to attract.\\n\\n4. **Visuals**: While the text is strong, it still lacks a visual element. Adding an eye-catching image, infographic, or video related to AI content creation could significantly enhance engagement.\\n\\n5. **Tone and Style**: The tone is positive and forward-looking, which resonates well with audiences interested in innovation. It maintains an approachable style, making it relatable.\\n\\n**Recommendations for Further Enhancement:**\\n\\n1. **Add a Visual**: Incorporate an engaging image or video. This could be a graphic showing the growth of AI in content creation or a short clip demonstrating AI tools in action.\\n\\n2. **Include Additional Hashtags**: Consider adding one or two more relevant hashtags to increase visibility. For instance, #Innovation, #FutureOfWork, or #AIContent could attract a broader audience.\\n\\n3. **Call to Action (CTA)**: While the tweet asks for thoughts, you could strengthen the CTA. Encourage retweets or shares for broader engagement. For example, \"Retweet if you\\'re excited about AI in content creation!\"\\n\\n4. **Consider Humor or a Catchy Phrase**: A lighthearted joke or clever phrase can make the tweet more memorable. For instance, \"AI: Our new content-creating overlords?\" could add a playful spin.\\n\\n**Final Tweet Example**:\\n“AI agents are reshaping content creation! 🤖✨ From personalized articles to jaw-dropping visuals, these assistants are boosting creativity and efficiency. What’s your take on the AI takeover? Retweet if you\\'re excited! 👇 #AI #ContentCreation #Innovation”\\n\\nBy following these recommendations, you can elevate your tweet to maximize engagement and potential virality. Keep experimenting with your style and content to see what resonates best with your audience!', additional_kwargs={'refusal': None}, response_metadata={'token_usage': {'completion_tokens': 490, 'prompt_tokens': 790, 'total_tokens': 1280, 'completion_tokens_details': {'accepted_prediction_tokens': 0, 'audio_tokens': 0, 'reasoning_tokens': 0, 'rejected_prediction_tokens': 0}, 'prompt_tokens_details': {'audio_tokens': 0, 'cached_tokens': 0}}, 'model_name': 'gpt-4o-mini-2024-07-18', 'system_fingerprint': 'fp_34a54ae93c', 'finish_reason': 'stop', 'logprobs': None}, id='run--443fc609-2d38-4a4e-82e0-46e11fae44d0-0', usage_metadata={'input_tokens': 790, 'output_tokens': 490, 'total_tokens': 1280, 'input_token_details': {'audio': 0, 'cache_read': 0}, 'output_token_details': {'audio': 0, 'reasoning': 0}}), AIMessage(content=\"AI agents are reshaping content creation! 🤖✨ From personalized articles to jaw-dropping visuals, these assistants are boosting creativity and efficiency. What’s your take on the AI takeover? Retweet if you're excited! 👇 #AI #ContentCreation #Innovation\", additional_kwargs={'refusal': None}, response_metadata={'token_usage': {'completion_tokens': 52, 'prompt_tokens': 1291, 'total_tokens': 1343, 'completion_tokens_details': {'accepted_prediction_tokens': 0, 'audio_tokens': 0, 'reasoning_tokens': 0, 'rejected_prediction_tokens': 0}, 'prompt_tokens_details': {'audio_tokens': 0, 'cached_tokens': 0}}, 'model_name': 'gpt-4o-mini-2024-07-18', 'system_fingerprint': 'fp_34a54ae93c', 'finish_reason': 'stop', 'logprobs': None}, id='run--868c3e3e-9294-4e4d-841a-c122739a2ac9-0', usage_metadata={'input_tokens': 1291, 'output_tokens': 52, 'total_tokens': 1343, 'input_token_details': {'audio': 0, 'cache_read': 0}, 'output_token_details': {'audio': 0, 'reasoning': 0}}), AIMessage(content='**Critique of the Final Tweet:**\\n\\n1. **Length and Clarity**: This tweet is well within the character limit and maintains clarity. It\\'s concise yet informative, which is great for quick consumption on Twitter.\\n\\n2. **Engagement**: The inclusion of a question encourages interaction, and the invitation to \"Retweet if you\\'re excited!\" is an effective call to action that can drive engagement and shares.\\n\\n3. **Hashtags**: The chosen hashtags (#AI, #ContentCreation, #Innovation) are relevant and targeted, which is good for visibility. However, consider monitoring trending hashtags within the tech and AI space to ensure maximum reach.\\n\\n4. **Tone and Style**: The tone is upbeat and inviting, making it appealing to a wide audience. The use of emojis adds a fun element, which can enhance engagement.\\n\\n5. **Visuals**: The tweet still lacks a visual component. Tweets with images, GIFs, or videos tend to attract more engagement. Consider including a relevant visual that complements the message.\\n\\n**Recommendations for Further Improvement:**\\n\\n1. **Add a Visual**: Include an eye-catching image or infographic related to AI in content creation. For example, an image showcasing AI-generated content or a graphic illustrating the growth of AI in the industry would enhance engagement.\\n\\n2. **Monitor Hashtags**: Stay updated on trending hashtags in the tech and AI fields. You might find opportunities to include a hashtag that can significantly boost your tweet\\'s visibility.\\n\\n3. **Experiment with Humor**: You could consider adding a humorous twist. Something like, \"AI: Our new content-creating overlords? 🤖\" could intrigue your audience and spark discussions.\\n\\n4. **Engage with Your Audience**: After posting, make sure to actively engage with any replies or retweets to foster community and encourage more interactions.\\n\\n**Final Tweet Example**:\\n“AI agents are reshaping content creation! 🤖✨ From personalized articles to jaw-dropping visuals, these assistants are boosting creativity and efficiency. What’s your take on the AI takeover? Retweet if you\\'re excited! 👇 #AI #ContentCreation #Innovation [Insert Visual]”\\n\\nBy incorporating these recommendations, you\\'ll be better positioned to enhance engagement and potentially increase the virality of your tweet. Good luck, and keep experimenting with different styles and formats to see what resonates best with your audience!', additional_kwargs={'refusal': None}, response_metadata={'token_usage': {'completion_tokens': 477, 'prompt_tokens': 1340, 'total_tokens': 1817, 'completion_tokens_details': {'accepted_prediction_tokens': 0, 'audio_tokens': 0, 'reasoning_tokens': 0, 'rejected_prediction_tokens': 0}, 'prompt_tokens_details': {'audio_tokens': 0, 'cached_tokens': 0}}, 'model_name': 'gpt-4o-mini-2024-07-18', 'system_fingerprint': 'fp_34a54ae93c', 'finish_reason': 'stop', 'logprobs': None}, id='run--279eaad4-f71c-4fcb-a2cf-9b8dfe314a53-0', usage_metadata={'input_tokens': 1340, 'output_tokens': 477, 'total_tokens': 1817, 'input_token_details': {'audio': 0, 'cache_read': 0}, 'output_token_details': {'audio': 0, 'reasoning': 0}}), AIMessage(content=\"AI agents are reshaping content creation! 🤖✨ From personalized articles to jaw-dropping visuals, these assistants are boosting creativity and efficiency. What’s your take on the AI takeover? Retweet if you're excited! 👇 #AI #ContentCreation #Innovation [Insert Visual]\", additional_kwargs={'refusal': None}, response_metadata={'token_usage': {'completion_tokens': 56, 'prompt_tokens': 1828, 'total_tokens': 1884, 'completion_tokens_details': {'accepted_prediction_tokens': 0, 'audio_tokens': 0, 'reasoning_tokens': 0, 'rejected_prediction_tokens': 0}, 'prompt_tokens_details': {'audio_tokens': 0, 'cached_tokens': 1280}}, 'model_name': 'gpt-4o-mini-2024-07-18', 'system_fingerprint': 'fp_34a54ae93c', 'finish_reason': 'stop', 'logprobs': None}, id='run--0eb4dc9a-daf7-4f91-a9c9-8c84a61a8497-0', usage_metadata={'input_tokens': 1828, 'output_tokens': 56, 'total_tokens': 1884, 'input_token_details': {'audio': 0, 'cache_read': 1280}, 'output_token_details': {'audio': 0, 'reasoning': 0}})]\n"
     ]
    }
   ],
   "source": [
    "response = app.invoke(HumanMessage(content=\"AI Agents taking over content creation\"))\n",
    "\n",
    "print(response)"
   ]
  },
  {
   "cell_type": "code",
   "execution_count": null,
   "id": "2a4f3a3e",
   "metadata": {},
   "outputs": [],
   "source": []
  }
 ],
 "metadata": {
  "kernelspec": {
   "display_name": "langchain-env",
   "language": "python",
   "name": "python3"
  },
  "language_info": {
   "codemirror_mode": {
    "name": "ipython",
    "version": 3
   },
   "file_extension": ".py",
   "mimetype": "text/x-python",
   "name": "python",
   "nbconvert_exporter": "python",
   "pygments_lexer": "ipython3",
   "version": "3.10.13"
  }
 },
 "nbformat": 4,
 "nbformat_minor": 5
}
