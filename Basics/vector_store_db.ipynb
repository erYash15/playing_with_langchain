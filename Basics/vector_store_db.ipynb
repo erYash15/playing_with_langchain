{
 "cells": [
  {
   "cell_type": "markdown",
   "metadata": {},
   "source": [
    "# FAISS"
   ]
  },
  {
   "cell_type": "code",
   "execution_count": 6,
   "metadata": {},
   "outputs": [],
   "source": [
    "from langchain_community.document_loaders import TextLoader # type: ignore\n",
    "from langchain_community.vectorstores import FAISS # type: ignore\n",
    "from langchain_huggingface.embeddings import HuggingFaceEmbeddings # type: ignore\n",
    "from langchain_text_splitters import CharacterTextSplitter # type: ignore\n",
    "from tqdm.notebook import tqdm as notebook_tqdm"
   ]
  },
  {
   "cell_type": "code",
   "execution_count": 7,
   "metadata": {},
   "outputs": [
    {
     "name": "stderr",
     "output_type": "stream",
     "text": [
      "Created a chunk of size 1212, which is longer than the specified 1000\n",
      "Created a chunk of size 2034, which is longer than the specified 1000\n",
      "Created a chunk of size 2104, which is longer than the specified 1000\n"
     ]
    }
   ],
   "source": [
    "loader=TextLoader(\"data/result.txt\")\n",
    "documents = loader.load()\n",
    "text_splitter = CharacterTextSplitter(chunk_size=1000, chunk_overlap=30)\n",
    "docs = text_splitter.split_documents(documents)"
   ]
  },
  {
   "cell_type": "code",
   "execution_count": 8,
   "metadata": {},
   "outputs": [
    {
     "data": {
      "text/plain": [
       "(7,\n",
       " [Document(metadata={'source': 'data/result.txt'}, page_content='WikipediaThe Free Encyclopedia\\nSearch Wikipedia\\nSearch\\nDonate\\nCreate account\\nLog in\\n\\nMain Page\\nTalk\\nRead\\nView source\\nView history\\n\\nTools\\nAppearance hide\\nText\\n\\nSmall\\n\\nStandard\\n\\nLarge\\nWidth\\n\\nStandard\\n\\nWide\\nColor (beta)\\n\\nAutomatic\\n\\nLight'),\n",
       "  Document(metadata={'source': 'data/result.txt'}, page_content='Dark\\nWelcome to Wikipedia,\\nthe free encyclopedia that anyone can edit.\\n116,430 active editors6,937,620 articles in English\\nFrom today\\'s featured article\\nMeghan Trainor\\nMeghan Trainor\\nTitle is the debut major-label studio album by American singer-songwriter Meghan Trainor (pictured), released on January 9, 2015. Initially a songwriter for other artists in 2013, Trainor signed with Epic Records the following year and began recording material she co-wrote with Kevin Kadish. They drew influence from retro-styled music as they were tired of chasing radio trends. Title includes \"All About That Bass\", which reached number one in 58 countries, and two other US Billboard Hot 100 top-10 singles: \"Lips Are Movin\" and \"Like I\\'m Gonna Lose You\". Reviewers criticized the album\\'s repetitiveness and doubted Trainor\\'s longevity, though some appreciated her wit and audacious attitude. It debuted at number one on charts in the US, Canada and the UK, and spent multiple weeks at the summit in Australia and New Zealand. Title was the ninth-best-selling album of 2015 worldwide. It was supported by the 2015 That Bass Tour and MTrain Tour. (This article is part of two featured topics: Title and Meghan Trainor albums.)'),\n",
       "  Document(metadata={'source': 'data/result.txt'}, page_content='Recently featured: Elvis PresleyGerald DurrellMaria Trubnikova\\nArchiveBy emailMore featured articlesAbout\\nDid you know ...\\nWaterloo Column\\nWaterloo Column\\n... that the Waterloo Column (pictured), which commemorates Germans who died at the Battle of Waterloo, incorporates the barrels of eight cannons that were captured there?\\n... that gym teacher Harold Styan of Clifton House School was appointed Officer of the Order of the British Empire for services to youth?\\n... that one critic described some of the melodies in Life Till Bones as akin to \"trying to dig a hole in a bowl full of sugar\"?\\n... that Goro Takahashi, a silversmith adopted by a Lakota family, was the first Japanese person allowed to attend a Sun Dance?\\n... that a Rhode Island TV station started out by re-running an inventory of 50 hours of cartoons and 14 old movies?\\n... that the 1923 film Zhang Xinsheng featured close-up views of internal organs?\\n... that an inscription from 243 AD for a leader of the marzēaḥ ends with blessings for his sons, the scribe, the person in charge of the cooking, the cupbearer, and other assistants?\\n... that Ripken wore a GoPro on his back while retrieving used bats and tees at major sporting events?\\n... that trucks in Tyler promoted Tyler\\'s latest album?\\nArchiveStart a new articleNominate an article\\nIn the news\\nWildfire in Pacific Palisades\\nWildfire in Pacific Palisades\\nA series of wildfires (pictured) in Southern California, United States, leaves 5 people dead and forces more than 100,000 others to evacuate.\\nA 7.1-magnitude earthquake hits Tingri County in the Tibet Autonomous Region, China, leaving at least 126 people dead.\\nIndonesia becomes a full member of BRICS.\\nJustin Trudeau announces his intention to resign as prime minister of Canada.\\nLuke Littler wins the PDC World Darts Championship.\\nOngoing: Israel–Hamas warRussian invasion of Ukraine timelineSudanese civil war timeline\\nRecent deaths: Jean-Michel DefayeÁgnes KeletiRipkenWayne OsmondThe VivienneTariana Turia\\nNominate an article\\nOn this day\\nJanuary 9'),\n",
       "  Document(metadata={'source': 'data/result.txt'}, page_content=\"Aircraft involved in the Iran Air Flight 277 accident\\nAircraft involved in the Iran Air Flight 277 accident\\n1797 – War of the First Coalition: The siege of Kehl by Habsburg and Württembergian forces ended when French troops withdrew from their fortifications.\\n1917 – First World War: Troops of the British Empire defeated Ottoman forces at the Battle of Rafa on the Sinai–Palestine border.\\n1972 – The Los Angeles Lakers of the National Basketball Association lost to the Milwaukee Bucks, ending a 33-game winning streak, the longest in major American professional team sports.\\n1975 – The Great Storm spawned the first of 45 tornadoes over a three-day period in the Southeastern United States.\\n2011 – In poor weather conditions, Iran Air Flight 277 (aircraft pictured) crashed near Urmia Airport, Iran, killing 78 of the 105 people on board.\\nT. W. Robertson (b. 1829)Carrie Chapman Catt (b. 1859)Farhan Akhtar (b. 1974)Lei Jieqiong (d. 2011)\\nMore anniversaries: January 8January 9January 10\\nArchiveBy emailList of days of the yearAbout\\nToday's featured picture\\nMichael William Balfe\\t\\nMichael William Balfe (1808–1870) was an Irish composer, best remembered for his operas. Balfe was born in Dublin and grew up on Pitt Street, which was renamed Balfe Street in 1917 in his honour. After moving to Wexford with his family as a child, he began a career as a violinist, moving to London in 1823 after his father's death, later relocating again to Italy and Switzerland, where he married the Hungarian-born singer Lina Roser. Balfe began pursuing an operatic singing career as well as composition, and moved back to London with his family in 1835. In a career spanning more than 40 years, he composed at least 29 operas, almost 250 songs, several cantatas, and other works. He was also a noted conductor, directing Italian opera at Her Majesty's Italian Opera House for seven years, among other conducting posts. His most notable opera is The Bohemian Girl, which continues to be performed. This photograph of Balfe was taken by the studio of the French photographer Nadar; this albumen print was made in 1900.\"),\n",
       "  Document(metadata={'source': 'data/result.txt'}, page_content=\"Photograph credit: Nadar; restored by Adam Cuerden\\n\\nRecently featured: LimeGolden-fronted woodpeckerCathedral of La Laguna\\nArchiveMore featured pictures\\nOther areas of Wikipedia\\nCommunity portal – The central hub for editors, with resources, links, tasks, and announcements.\\nVillage pump – Forum for discussions about Wikipedia itself, including policies and technical issues.\\nSite news – Sources of news about Wikipedia and the broader Wikimedia movement.\\nTeahouse – Ask basic questions about using or editing Wikipedia.\\nHelp desk – Ask questions about using or editing Wikipedia.\\nReference desk – Ask research questions about encyclopedic topics.\\nContent portals – A unique way to navigate the encyclopedia.\\nWikipedia's sister projects\\nWikipedia is written by volunteer editors and hosted by the Wikimedia Foundation, a non-profit organization that also hosts a range of other volunteer projects:\"),\n",
       "  Document(metadata={'source': 'data/result.txt'}, page_content='Commons logo Commons\\nFree media repository\\nMediaWiki logo MediaWiki\\nWiki software development\\nMeta-Wiki logo Meta-Wiki\\nWikimedia project coordination\\nWikibooks logo Wikibooks\\nFree textbooks and manuals\\nWikidata logo Wikidata\\nFree knowledge base\\nWikinews logo Wikinews\\nFree-content news\\nWikiquote logo Wikiquote\\nCollection of quotations\\nWikisource logo Wikisource\\nFree-content library\\nWikispecies logo Wikispecies\\nDirectory of species\\nWikiversity logo Wikiversity\\nFree learning tools\\nWikivoyage logo Wikivoyage\\nFree travel guide\\nWiktionary logo Wiktionary\\nDictionary and thesaurus\\nWikipedia languages\\nThis Wikipedia is written in English. Many other Wikipedias are available; some of the largest are listed below.'),\n",
       "  Document(metadata={'source': 'data/result.txt'}, page_content='1,000,000+ articles\\nالعربيةDeutschEspañolفارسی\\u200eFrançaisItalianoNederlands日本語PolskiPortuguêsРусскийSvenskaУкраїнськаTiếng Việt中文\\n250,000+ articles\\nBahasa IndonesiaBahasa Melayu閩南語БългарскиCatalàČeštinaDanskEsperantoEuskaraעבריתՀայերեն한국어MagyarNorsk bokmålRomânăSimple EnglishSlovenčinaSrpskiSrpskohrvatskiSuomiTürkçeOʻzbekcha\\n50,000+ articles\\nAsturianuAzərbaycancaবাংলাBosanskiکوردیEestiΕλληνικάFryskGaeilgeGalegoHrvatskiქართულიKurdîLatviešuLietuviųമലയാളംМакедонскиမြန်မာဘာသာNorsk nynorskਪੰਜਾਬੀShqipSlovenščinaไทยతెలుగుاردو\\n\\n49 languages\\nText is available under the Creative Commons Attribution-ShareAlike 4.0 License; additional terms may apply. By using this site, you agree to the Terms of Use and Privacy Policy. Wikipedia® is a registered trademark of the Wikimedia Foundation, Inc., a non-profit organization.\\nPrivacy policyAbout WikipediaDisclaimersContact WikipediaCode of ConductDevelopersStatisticsCookie statementMobile view\\nWikimedia FoundationPowered by MediaWiki')])"
      ]
     },
     "execution_count": 8,
     "metadata": {},
     "output_type": "execute_result"
    }
   ],
   "source": [
    "len(docs),docs"
   ]
  },
  {
   "cell_type": "code",
   "execution_count": 9,
   "metadata": {},
   "outputs": [
    {
     "name": "stderr",
     "output_type": "stream",
     "text": [
      "2025-03-22 17:05:44.642945: I tensorflow/core/platform/cpu_feature_guard.cc:210] This TensorFlow binary is optimized to use available CPU instructions in performance-critical operations.\n",
      "To enable the following instructions: AVX2 FMA, in other operations, rebuild TensorFlow with the appropriate compiler flags.\n"
     ]
    },
    {
     "data": {
      "application/vnd.jupyter.widget-view+json": {
       "model_id": "62baa9ded14243c7b1a82d3608d8b818",
       "version_major": 2,
       "version_minor": 0
      },
      "text/plain": [
       "README.md:   0%|          | 0.00/10.5k [00:00<?, ?B/s]"
      ]
     },
     "metadata": {},
     "output_type": "display_data"
    }
   ],
   "source": [
    "embeddings = HuggingFaceEmbeddings(model_name=\"sentence-transformers/all-MiniLM-L6-v2\")"
   ]
  },
  {
   "cell_type": "code",
   "execution_count": 10,
   "metadata": {},
   "outputs": [
    {
     "data": {
      "text/plain": [
       "<langchain_community.vectorstores.faiss.FAISS at 0x180733ac0>"
      ]
     },
     "execution_count": 10,
     "metadata": {},
     "output_type": "execute_result"
    }
   ],
   "source": [
    "db = FAISS.from_documents(docs, embeddings)\n",
    "db"
   ]
  },
  {
   "cell_type": "code",
   "execution_count": 11,
   "metadata": {},
   "outputs": [],
   "source": [
    "### querying\n",
    "query=\"what does this article says about aircraft?\"\n",
    "query_docs = db.similarity_search(query)"
   ]
  },
  {
   "cell_type": "code",
   "execution_count": 12,
   "metadata": {},
   "outputs": [
    {
     "data": {
      "text/plain": [
       "\"Aircraft involved in the Iran Air Flight 277 accident\\nAircraft involved in the Iran Air Flight 277 accident\\n1797 – War of the First Coalition: The siege of Kehl by Habsburg and Württembergian forces ended when French troops withdrew from their fortifications.\\n1917 – First World War: Troops of the British Empire defeated Ottoman forces at the Battle of Rafa on the Sinai–Palestine border.\\n1972 – The Los Angeles Lakers of the National Basketball Association lost to the Milwaukee Bucks, ending a 33-game winning streak, the longest in major American professional team sports.\\n1975 – The Great Storm spawned the first of 45 tornadoes over a three-day period in the Southeastern United States.\\n2011 – In poor weather conditions, Iran Air Flight 277 (aircraft pictured) crashed near Urmia Airport, Iran, killing 78 of the 105 people on board.\\nT. W. Robertson (b. 1829)Carrie Chapman Catt (b. 1859)Farhan Akhtar (b. 1974)Lei Jieqiong (d. 2011)\\nMore anniversaries: January 8January 9January 10\\nArchiveBy emailList of days of the yearAbout\\nToday's featured picture\\nMichael William Balfe\\t\\nMichael William Balfe (1808–1870) was an Irish composer, best remembered for his operas. Balfe was born in Dublin and grew up on Pitt Street, which was renamed Balfe Street in 1917 in his honour. After moving to Wexford with his family as a child, he began a career as a violinist, moving to London in 1823 after his father's death, later relocating again to Italy and Switzerland, where he married the Hungarian-born singer Lina Roser. Balfe began pursuing an operatic singing career as well as composition, and moved back to London with his family in 1835. In a career spanning more than 40 years, he composed at least 29 operas, almost 250 songs, several cantatas, and other works. He was also a noted conductor, directing Italian opera at Her Majesty's Italian Opera House for seven years, among other conducting posts. His most notable opera is The Bohemian Girl, which continues to be performed. This photograph of Balfe was taken by the studio of the French photographer Nadar; this albumen print was made in 1900.\""
      ]
     },
     "execution_count": 12,
     "metadata": {},
     "output_type": "execute_result"
    }
   ],
   "source": [
    "query_docs[0].page_content"
   ]
  },
  {
   "cell_type": "code",
   "execution_count": 13,
   "metadata": {},
   "outputs": [],
   "source": [
    "retriver=db.as_retriever()\n",
    "new_docs = retriver.invoke(query)"
   ]
  },
  {
   "cell_type": "code",
   "execution_count": 14,
   "metadata": {},
   "outputs": [
    {
     "data": {
      "text/plain": [
       "\"Aircraft involved in the Iran Air Flight 277 accident\\nAircraft involved in the Iran Air Flight 277 accident\\n1797 – War of the First Coalition: The siege of Kehl by Habsburg and Württembergian forces ended when French troops withdrew from their fortifications.\\n1917 – First World War: Troops of the British Empire defeated Ottoman forces at the Battle of Rafa on the Sinai–Palestine border.\\n1972 – The Los Angeles Lakers of the National Basketball Association lost to the Milwaukee Bucks, ending a 33-game winning streak, the longest in major American professional team sports.\\n1975 – The Great Storm spawned the first of 45 tornadoes over a three-day period in the Southeastern United States.\\n2011 – In poor weather conditions, Iran Air Flight 277 (aircraft pictured) crashed near Urmia Airport, Iran, killing 78 of the 105 people on board.\\nT. W. Robertson (b. 1829)Carrie Chapman Catt (b. 1859)Farhan Akhtar (b. 1974)Lei Jieqiong (d. 2011)\\nMore anniversaries: January 8January 9January 10\\nArchiveBy emailList of days of the yearAbout\\nToday's featured picture\\nMichael William Balfe\\t\\nMichael William Balfe (1808–1870) was an Irish composer, best remembered for his operas. Balfe was born in Dublin and grew up on Pitt Street, which was renamed Balfe Street in 1917 in his honour. After moving to Wexford with his family as a child, he began a career as a violinist, moving to London in 1823 after his father's death, later relocating again to Italy and Switzerland, where he married the Hungarian-born singer Lina Roser. Balfe began pursuing an operatic singing career as well as composition, and moved back to London with his family in 1835. In a career spanning more than 40 years, he composed at least 29 operas, almost 250 songs, several cantatas, and other works. He was also a noted conductor, directing Italian opera at Her Majesty's Italian Opera House for seven years, among other conducting posts. His most notable opera is The Bohemian Girl, which continues to be performed. This photograph of Balfe was taken by the studio of the French photographer Nadar; this albumen print was made in 1900.\""
      ]
     },
     "execution_count": 14,
     "metadata": {},
     "output_type": "execute_result"
    }
   ],
   "source": [
    "new_docs[0].page_content"
   ]
  },
  {
   "cell_type": "markdown",
   "metadata": {},
   "source": [
    "# Similiarity with score"
   ]
  },
  {
   "cell_type": "code",
   "execution_count": 15,
   "metadata": {},
   "outputs": [
    {
     "data": {
      "text/plain": [
       "[(Document(metadata={'source': 'data/result.txt'}, page_content=\"Aircraft involved in the Iran Air Flight 277 accident\\nAircraft involved in the Iran Air Flight 277 accident\\n1797 – War of the First Coalition: The siege of Kehl by Habsburg and Württembergian forces ended when French troops withdrew from their fortifications.\\n1917 – First World War: Troops of the British Empire defeated Ottoman forces at the Battle of Rafa on the Sinai–Palestine border.\\n1972 – The Los Angeles Lakers of the National Basketball Association lost to the Milwaukee Bucks, ending a 33-game winning streak, the longest in major American professional team sports.\\n1975 – The Great Storm spawned the first of 45 tornadoes over a three-day period in the Southeastern United States.\\n2011 – In poor weather conditions, Iran Air Flight 277 (aircraft pictured) crashed near Urmia Airport, Iran, killing 78 of the 105 people on board.\\nT. W. Robertson (b. 1829)Carrie Chapman Catt (b. 1859)Farhan Akhtar (b. 1974)Lei Jieqiong (d. 2011)\\nMore anniversaries: January 8January 9January 10\\nArchiveBy emailList of days of the yearAbout\\nToday's featured picture\\nMichael William Balfe\\t\\nMichael William Balfe (1808–1870) was an Irish composer, best remembered for his operas. Balfe was born in Dublin and grew up on Pitt Street, which was renamed Balfe Street in 1917 in his honour. After moving to Wexford with his family as a child, he began a career as a violinist, moving to London in 1823 after his father's death, later relocating again to Italy and Switzerland, where he married the Hungarian-born singer Lina Roser. Balfe began pursuing an operatic singing career as well as composition, and moved back to London with his family in 1835. In a career spanning more than 40 years, he composed at least 29 operas, almost 250 songs, several cantatas, and other works. He was also a noted conductor, directing Italian opera at Her Majesty's Italian Opera House for seven years, among other conducting posts. His most notable opera is The Bohemian Girl, which continues to be performed. This photograph of Balfe was taken by the studio of the French photographer Nadar; this albumen print was made in 1900.\"),\n",
       "  1.5006795),\n",
       " (Document(metadata={'source': 'data/result.txt'}, page_content='1,000,000+ articles\\nالعربيةDeutschEspañolفارسی\\u200eFrançaisItalianoNederlands日本語PolskiPortuguêsРусскийSvenskaУкраїнськаTiếng Việt中文\\n250,000+ articles\\nBahasa IndonesiaBahasa Melayu閩南語БългарскиCatalàČeštinaDanskEsperantoEuskaraעבריתՀայերեն한국어MagyarNorsk bokmålRomânăSimple EnglishSlovenčinaSrpskiSrpskohrvatskiSuomiTürkçeOʻzbekcha\\n50,000+ articles\\nAsturianuAzərbaycancaবাংলাBosanskiکوردیEestiΕλληνικάFryskGaeilgeGalegoHrvatskiქართულიKurdîLatviešuLietuviųമലയാളംМакедонскиမြန်မာဘာသာNorsk nynorskਪੰਜਾਬੀShqipSlovenščinaไทยతెలుగుاردو\\n\\n49 languages\\nText is available under the Creative Commons Attribution-ShareAlike 4.0 License; additional terms may apply. By using this site, you agree to the Terms of Use and Privacy Policy. Wikipedia® is a registered trademark of the Wikimedia Foundation, Inc., a non-profit organization.\\nPrivacy policyAbout WikipediaDisclaimersContact WikipediaCode of ConductDevelopersStatisticsCookie statementMobile view\\nWikimedia FoundationPowered by MediaWiki'),\n",
       "  1.6153979),\n",
       " (Document(metadata={'source': 'data/result.txt'}, page_content='WikipediaThe Free Encyclopedia\\nSearch Wikipedia\\nSearch\\nDonate\\nCreate account\\nLog in\\n\\nMain Page\\nTalk\\nRead\\nView source\\nView history\\n\\nTools\\nAppearance hide\\nText\\n\\nSmall\\n\\nStandard\\n\\nLarge\\nWidth\\n\\nStandard\\n\\nWide\\nColor (beta)\\n\\nAutomatic\\n\\nLight'),\n",
       "  1.6715939),\n",
       " (Document(metadata={'source': 'data/result.txt'}, page_content=\"Photograph credit: Nadar; restored by Adam Cuerden\\n\\nRecently featured: LimeGolden-fronted woodpeckerCathedral of La Laguna\\nArchiveMore featured pictures\\nOther areas of Wikipedia\\nCommunity portal – The central hub for editors, with resources, links, tasks, and announcements.\\nVillage pump – Forum for discussions about Wikipedia itself, including policies and technical issues.\\nSite news – Sources of news about Wikipedia and the broader Wikimedia movement.\\nTeahouse – Ask basic questions about using or editing Wikipedia.\\nHelp desk – Ask questions about using or editing Wikipedia.\\nReference desk – Ask research questions about encyclopedic topics.\\nContent portals – A unique way to navigate the encyclopedia.\\nWikipedia's sister projects\\nWikipedia is written by volunteer editors and hosted by the Wikimedia Foundation, a non-profit organization that also hosts a range of other volunteer projects:\"),\n",
       "  1.7727884)]"
      ]
     },
     "execution_count": 15,
     "metadata": {},
     "output_type": "execute_result"
    }
   ],
   "source": [
    "docs_and_scores = db.similarity_search_with_score(query)\n",
    "docs_and_scores"
   ]
  },
  {
   "cell_type": "code",
   "execution_count": 18,
   "metadata": {},
   "outputs": [
    {
     "data": {
      "text/plain": [
       "384"
      ]
     },
     "execution_count": 18,
     "metadata": {},
     "output_type": "execute_result"
    }
   ],
   "source": [
    "query_embedding = embeddings.embed_query(query)\n",
    "len(query_embedding)"
   ]
  },
  {
   "cell_type": "code",
   "execution_count": 19,
   "metadata": {},
   "outputs": [
    {
     "data": {
      "text/plain": [
       "[Document(metadata={'source': 'data/result.txt'}, page_content=\"Aircraft involved in the Iran Air Flight 277 accident\\nAircraft involved in the Iran Air Flight 277 accident\\n1797 – War of the First Coalition: The siege of Kehl by Habsburg and Württembergian forces ended when French troops withdrew from their fortifications.\\n1917 – First World War: Troops of the British Empire defeated Ottoman forces at the Battle of Rafa on the Sinai–Palestine border.\\n1972 – The Los Angeles Lakers of the National Basketball Association lost to the Milwaukee Bucks, ending a 33-game winning streak, the longest in major American professional team sports.\\n1975 – The Great Storm spawned the first of 45 tornadoes over a three-day period in the Southeastern United States.\\n2011 – In poor weather conditions, Iran Air Flight 277 (aircraft pictured) crashed near Urmia Airport, Iran, killing 78 of the 105 people on board.\\nT. W. Robertson (b. 1829)Carrie Chapman Catt (b. 1859)Farhan Akhtar (b. 1974)Lei Jieqiong (d. 2011)\\nMore anniversaries: January 8January 9January 10\\nArchiveBy emailList of days of the yearAbout\\nToday's featured picture\\nMichael William Balfe\\t\\nMichael William Balfe (1808–1870) was an Irish composer, best remembered for his operas. Balfe was born in Dublin and grew up on Pitt Street, which was renamed Balfe Street in 1917 in his honour. After moving to Wexford with his family as a child, he began a career as a violinist, moving to London in 1823 after his father's death, later relocating again to Italy and Switzerland, where he married the Hungarian-born singer Lina Roser. Balfe began pursuing an operatic singing career as well as composition, and moved back to London with his family in 1835. In a career spanning more than 40 years, he composed at least 29 operas, almost 250 songs, several cantatas, and other works. He was also a noted conductor, directing Italian opera at Her Majesty's Italian Opera House for seven years, among other conducting posts. His most notable opera is The Bohemian Girl, which continues to be performed. This photograph of Balfe was taken by the studio of the French photographer Nadar; this albumen print was made in 1900.\"),\n",
       " Document(metadata={'source': 'data/result.txt'}, page_content='1,000,000+ articles\\nالعربيةDeutschEspañolفارسی\\u200eFrançaisItalianoNederlands日本語PolskiPortuguêsРусскийSvenskaУкраїнськаTiếng Việt中文\\n250,000+ articles\\nBahasa IndonesiaBahasa Melayu閩南語БългарскиCatalàČeštinaDanskEsperantoEuskaraעבריתՀայերեն한국어MagyarNorsk bokmålRomânăSimple EnglishSlovenčinaSrpskiSrpskohrvatskiSuomiTürkçeOʻzbekcha\\n50,000+ articles\\nAsturianuAzərbaycancaবাংলাBosanskiکوردیEestiΕλληνικάFryskGaeilgeGalegoHrvatskiქართულიKurdîLatviešuLietuviųമലയാളംМакедонскиမြန်မာဘာသာNorsk nynorskਪੰਜਾਬੀShqipSlovenščinaไทยతెలుగుاردو\\n\\n49 languages\\nText is available under the Creative Commons Attribution-ShareAlike 4.0 License; additional terms may apply. By using this site, you agree to the Terms of Use and Privacy Policy. Wikipedia® is a registered trademark of the Wikimedia Foundation, Inc., a non-profit organization.\\nPrivacy policyAbout WikipediaDisclaimersContact WikipediaCode of ConductDevelopersStatisticsCookie statementMobile view\\nWikimedia FoundationPowered by MediaWiki'),\n",
       " Document(metadata={'source': 'data/result.txt'}, page_content='WikipediaThe Free Encyclopedia\\nSearch Wikipedia\\nSearch\\nDonate\\nCreate account\\nLog in\\n\\nMain Page\\nTalk\\nRead\\nView source\\nView history\\n\\nTools\\nAppearance hide\\nText\\n\\nSmall\\n\\nStandard\\n\\nLarge\\nWidth\\n\\nStandard\\n\\nWide\\nColor (beta)\\n\\nAutomatic\\n\\nLight'),\n",
       " Document(metadata={'source': 'data/result.txt'}, page_content=\"Photograph credit: Nadar; restored by Adam Cuerden\\n\\nRecently featured: LimeGolden-fronted woodpeckerCathedral of La Laguna\\nArchiveMore featured pictures\\nOther areas of Wikipedia\\nCommunity portal – The central hub for editors, with resources, links, tasks, and announcements.\\nVillage pump – Forum for discussions about Wikipedia itself, including policies and technical issues.\\nSite news – Sources of news about Wikipedia and the broader Wikimedia movement.\\nTeahouse – Ask basic questions about using or editing Wikipedia.\\nHelp desk – Ask questions about using or editing Wikipedia.\\nReference desk – Ask research questions about encyclopedic topics.\\nContent portals – A unique way to navigate the encyclopedia.\\nWikipedia's sister projects\\nWikipedia is written by volunteer editors and hosted by the Wikimedia Foundation, a non-profit organization that also hosts a range of other volunteer projects:\")]"
      ]
     },
     "execution_count": 19,
     "metadata": {},
     "output_type": "execute_result"
    }
   ],
   "source": [
    "docs_query_w_vector=db.similarity_search_by_vector(query_embedding)\n",
    "docs_query_w_vector"
   ]
  },
  {
   "cell_type": "markdown",
   "metadata": {},
   "source": [
    "# Saving And Loading"
   ]
  },
  {
   "cell_type": "code",
   "execution_count": 20,
   "metadata": {},
   "outputs": [],
   "source": [
    "db.save_local(\"faiss_index\")"
   ]
  },
  {
   "cell_type": "code",
   "execution_count": 21,
   "metadata": {},
   "outputs": [],
   "source": [
    "new_db = FAISS.load_local(\"faiss_index\", embeddings, allow_dangerous_deserialization=True)\n",
    "docs = new_db.similarity_search(query)"
   ]
  },
  {
   "cell_type": "code",
   "execution_count": 22,
   "metadata": {},
   "outputs": [
    {
     "data": {
      "text/plain": [
       "[Document(metadata={'source': 'data/result.txt'}, page_content=\"Aircraft involved in the Iran Air Flight 277 accident\\nAircraft involved in the Iran Air Flight 277 accident\\n1797 – War of the First Coalition: The siege of Kehl by Habsburg and Württembergian forces ended when French troops withdrew from their fortifications.\\n1917 – First World War: Troops of the British Empire defeated Ottoman forces at the Battle of Rafa on the Sinai–Palestine border.\\n1972 – The Los Angeles Lakers of the National Basketball Association lost to the Milwaukee Bucks, ending a 33-game winning streak, the longest in major American professional team sports.\\n1975 – The Great Storm spawned the first of 45 tornadoes over a three-day period in the Southeastern United States.\\n2011 – In poor weather conditions, Iran Air Flight 277 (aircraft pictured) crashed near Urmia Airport, Iran, killing 78 of the 105 people on board.\\nT. W. Robertson (b. 1829)Carrie Chapman Catt (b. 1859)Farhan Akhtar (b. 1974)Lei Jieqiong (d. 2011)\\nMore anniversaries: January 8January 9January 10\\nArchiveBy emailList of days of the yearAbout\\nToday's featured picture\\nMichael William Balfe\\t\\nMichael William Balfe (1808–1870) was an Irish composer, best remembered for his operas. Balfe was born in Dublin and grew up on Pitt Street, which was renamed Balfe Street in 1917 in his honour. After moving to Wexford with his family as a child, he began a career as a violinist, moving to London in 1823 after his father's death, later relocating again to Italy and Switzerland, where he married the Hungarian-born singer Lina Roser. Balfe began pursuing an operatic singing career as well as composition, and moved back to London with his family in 1835. In a career spanning more than 40 years, he composed at least 29 operas, almost 250 songs, several cantatas, and other works. He was also a noted conductor, directing Italian opera at Her Majesty's Italian Opera House for seven years, among other conducting posts. His most notable opera is The Bohemian Girl, which continues to be performed. This photograph of Balfe was taken by the studio of the French photographer Nadar; this albumen print was made in 1900.\"),\n",
       " Document(metadata={'source': 'data/result.txt'}, page_content='1,000,000+ articles\\nالعربيةDeutschEspañolفارسی\\u200eFrançaisItalianoNederlands日本語PolskiPortuguêsРусскийSvenskaУкраїнськаTiếng Việt中文\\n250,000+ articles\\nBahasa IndonesiaBahasa Melayu閩南語БългарскиCatalàČeštinaDanskEsperantoEuskaraעבריתՀայերեն한국어MagyarNorsk bokmålRomânăSimple EnglishSlovenčinaSrpskiSrpskohrvatskiSuomiTürkçeOʻzbekcha\\n50,000+ articles\\nAsturianuAzərbaycancaবাংলাBosanskiکوردیEestiΕλληνικάFryskGaeilgeGalegoHrvatskiქართულიKurdîLatviešuLietuviųമലയാളംМакедонскиမြန်မာဘာသာNorsk nynorskਪੰਜਾਬੀShqipSlovenščinaไทยతెలుగుاردو\\n\\n49 languages\\nText is available under the Creative Commons Attribution-ShareAlike 4.0 License; additional terms may apply. By using this site, you agree to the Terms of Use and Privacy Policy. Wikipedia® is a registered trademark of the Wikimedia Foundation, Inc., a non-profit organization.\\nPrivacy policyAbout WikipediaDisclaimersContact WikipediaCode of ConductDevelopersStatisticsCookie statementMobile view\\nWikimedia FoundationPowered by MediaWiki'),\n",
       " Document(metadata={'source': 'data/result.txt'}, page_content='WikipediaThe Free Encyclopedia\\nSearch Wikipedia\\nSearch\\nDonate\\nCreate account\\nLog in\\n\\nMain Page\\nTalk\\nRead\\nView source\\nView history\\n\\nTools\\nAppearance hide\\nText\\n\\nSmall\\n\\nStandard\\n\\nLarge\\nWidth\\n\\nStandard\\n\\nWide\\nColor (beta)\\n\\nAutomatic\\n\\nLight'),\n",
       " Document(metadata={'source': 'data/result.txt'}, page_content=\"Photograph credit: Nadar; restored by Adam Cuerden\\n\\nRecently featured: LimeGolden-fronted woodpeckerCathedral of La Laguna\\nArchiveMore featured pictures\\nOther areas of Wikipedia\\nCommunity portal – The central hub for editors, with resources, links, tasks, and announcements.\\nVillage pump – Forum for discussions about Wikipedia itself, including policies and technical issues.\\nSite news – Sources of news about Wikipedia and the broader Wikimedia movement.\\nTeahouse – Ask basic questions about using or editing Wikipedia.\\nHelp desk – Ask questions about using or editing Wikipedia.\\nReference desk – Ask research questions about encyclopedic topics.\\nContent portals – A unique way to navigate the encyclopedia.\\nWikipedia's sister projects\\nWikipedia is written by volunteer editors and hosted by the Wikimedia Foundation, a non-profit organization that also hosts a range of other volunteer projects:\")]"
      ]
     },
     "execution_count": 22,
     "metadata": {},
     "output_type": "execute_result"
    }
   ],
   "source": [
    "docs"
   ]
  },
  {
   "cell_type": "code",
   "execution_count": 23,
   "metadata": {},
   "outputs": [
    {
     "data": {
      "text/plain": [
       "6450002624"
      ]
     },
     "execution_count": 23,
     "metadata": {},
     "output_type": "execute_result"
    }
   ],
   "source": [
    "id(db)"
   ]
  },
  {
   "cell_type": "code",
   "execution_count": 24,
   "metadata": {},
   "outputs": [
    {
     "data": {
      "text/plain": [
       "6488037648"
      ]
     },
     "execution_count": 24,
     "metadata": {},
     "output_type": "execute_result"
    }
   ],
   "source": [
    "id(new_db)"
   ]
  },
  {
   "cell_type": "code",
   "execution_count": null,
   "metadata": {},
   "outputs": [],
   "source": []
  }
 ],
 "metadata": {
  "kernelspec": {
   "display_name": "pfenv",
   "language": "python",
   "name": "python3"
  },
  "language_info": {
   "codemirror_mode": {
    "name": "ipython",
    "version": 3
   },
   "file_extension": ".py",
   "mimetype": "text/x-python",
   "name": "python",
   "nbconvert_exporter": "python",
   "pygments_lexer": "ipython3",
   "version": "3.9.11"
  }
 },
 "nbformat": 4,
 "nbformat_minor": 2
}
