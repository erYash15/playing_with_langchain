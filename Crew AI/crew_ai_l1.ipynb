{
 "cells": [
  {
   "cell_type": "code",
   "execution_count": 5,
   "id": "fde9a040",
   "metadata": {},
   "outputs": [],
   "source": [
    "import os\n",
    "from dotenv import load_dotenv\n",
    "from langchain_openai import ChatOpenAI"
   ]
  },
  {
   "cell_type": "code",
   "execution_count": 9,
   "id": "65eeaa49",
   "metadata": {},
   "outputs": [],
   "source": [
    "# # Load environment variables\n",
    "# load_dotenv()\n",
    "\n",
    "# Initialize LLM and memory\n",
    "os.environ[\"LANGCHAIN_TRACING_V2\"] = \"true\"\n",
    "os.environ[\"LANGSMITH_ENDPOINT\"] = \"https://api.smith.langchain.com\"\n",
    "os.environ[\"LANGSMITH_PROJECT\"] = \"Information_Extractor\"\n",
    "LANGCHAIN_API_KEY = os.getenv(\"LANGSMITH_API_KEY\")\n",
    "OPENAI_API_KEY = os.getenv(\"OPEN_API\")\n",
    "os.environ[\"OPENAI_API_KEY\"] = OPENAI_API_KEY"
   ]
  },
  {
   "cell_type": "code",
   "execution_count": 10,
   "id": "f92bc9a6",
   "metadata": {},
   "outputs": [],
   "source": [
    "import os\n",
    "os.makedirs('blog-post', exist_ok=True)"
   ]
  },
  {
   "cell_type": "code",
   "execution_count": 11,
   "id": "81a43ebd",
   "metadata": {},
   "outputs": [
    {
     "name": "stderr",
     "output_type": "stream",
     "text": [
      "/Users/guptayas/.pyenv/versions/langchain-env/lib/python3.10/site-packages/alembic/config.py:577: DeprecationWarning: No path_separator found in configuration; falling back to legacy splitting on spaces, commas, and colons for prepend_sys_path.  Consider adding path_separator=os to Alembic config.\n",
      "  util.warn_deprecated(\n",
      "Inserting batches in chromadb:   0%|          | 0/1 [00:00<?, ?it/s]/Users/guptayas/.pyenv/versions/langchain-env/lib/python3.10/site-packages/chromadb/types.py:144: PydanticDeprecatedSince211: Accessing the 'model_fields' attribute on the instance is deprecated. Instead, you should access this attribute from the model class. Deprecated in Pydantic V2.11 to be removed in V3.0.\n",
      "  return self.model_fields  # pydantic 2.x\n",
      "Inserting batches in chromadb: 100%|██████████| 1/1 [00:01<00:00,  1.33s/it]\n"
     ]
    },
    {
     "name": "stdout",
     "output_type": "stream",
     "text": [
      "\n",
      "=== FINAL OUTPUT ===\n",
      "\n",
      "```markdown\n",
      "# Embracing the Future: Top 3 AI Trends You Need to Know\n",
      "\n",
      "In a world where technology evolves at breakneck speed, staying updated with the latest trends in artificial intelligence (AI) is not just beneficial—it's essential. As AI continues to permeate various sectors, understanding its trajectory can empower businesses and individuals alike to harness its potential. What are the key trends shaping the AI landscape today? Let’s dive into the top three trends that are redefining creativity, productivity, and accessibility in the AI industry.\n",
      "\n",
      "## AI-Powered Creativity\n",
      "\n",
      "The first trend making waves in the AI sector is **AI-Powered Creativity**. This phenomenon is revolutionizing creative industries by enabling artists, musicians, and writers to collaborate with technology in unprecedented ways. Imagine a painter using AI algorithms to generate unique patterns or a musician composing a symphony with the help of machine learning. This collaboration not only enhances content creation but also expands the boundaries of what we consider art. As AI tools become more sophisticated, they are redefining authorship and challenging traditional notions of creativity. The implications are vast, as this trend encourages innovation and pushes artists to explore new forms of expression.\n",
      "\n",
      "## Fast-Learning Robots\n",
      "\n",
      "Next on our list is the emergence of **Fast-Learning Robots**. Recent advancements in AI have equipped robots with the ability to learn new tasks at an astonishing pace. This capability is particularly transformative in sectors like manufacturing and logistics, where efficiency is paramount. For instance, a robot that can quickly adapt to different assembly line tasks can significantly reduce production time and costs. Companies are leveraging this technology to address labor shortages and improve overall productivity. As these robots become more integrated into the workforce, we can expect a shift in how businesses operate, leading to streamlined processes and enhanced output.\n",
      "\n",
      "## Small Language Models\n",
      "\n",
      "Finally, we have the rise of **Small Language Models**, which are making AI more efficient and accessible than ever before. Unlike their larger counterparts, these models require less computational power, making them ideal for smaller businesses looking to implement AI solutions. For example, a local retailer can utilize a small language model for customer service chatbots, providing personalized assistance without the need for extensive resources. This trend democratizes AI technology, allowing smaller players to compete on a more level playing field. As more businesses adopt these models, we can anticipate a surge in innovation and creativity across various industries.\n",
      "\n",
      "## Conclusion\n",
      "\n",
      "In conclusion, the AI landscape is rapidly evolving, and embracing these trends is crucial for both businesses and individuals. From enhancing creativity to boosting productivity and democratizing technology, the implications of these trends are profound. As we move forward, it’s essential to stay informed and adaptable in this dynamic environment. Are you ready to embrace the changes that AI brings? The future is here, and it’s time to seize the opportunities it presents.\n",
      "```\n"
     ]
    }
   ],
   "source": [
    "from crewai import Agent, Task, Crew\n",
    "from crewai_tools import WebsiteSearchTool\n",
    "from langchain_openai import ChatOpenAI\n",
    "\n",
    "# Define the LLM\n",
    "llm = ChatOpenAI(\n",
    "    model=\"gpt-4o-mini\",  # or gpt-4o-mini if you like\n",
    "    openai_api_key=OPENAI_KEY,\n",
    "    temperature=0\n",
    ")\n",
    "\n",
    "# Define tool\n",
    "web_search_tool = WebsiteSearchTool()\n",
    "\n",
    "# Define agents\n",
    "researcher = Agent(\n",
    "    role=\"Market Research Analyst\",\n",
    "    goal=\"Provide up-to-date market analysis for the AI industry\",\n",
    "    backstory=\"An expert analyst with a keen eye for market trends.\",\n",
    "    tools=[web_search_tool],\n",
    "    llm=llm,\n",
    "    verbose=False\n",
    ")\n",
    "\n",
    "writer = Agent(\n",
    "    role=\"Content Writer\",\n",
    "    goal=\"Craft engaging blog posts about the AI industry\",\n",
    "    backstory=\"A skilled writer with a passion for technology.\",\n",
    "    tools=[],  # No tools\n",
    "    llm=llm,\n",
    "    verbose=False\n",
    ")\n",
    "\n",
    "# Define tasks\n",
    "research_task = Task(\n",
    "    description=\"Search the web for the latest AI trends and provide a summarized report of the top 3 developments.\",\n",
    "    expected_output=\"Summary of the top 3 AI trends with their potential impact.\",\n",
    "    agent=researcher\n",
    ")\n",
    "\n",
    "write_task = Task(\n",
    "    description=\"Write an engaging, 4-paragraph blog post in markdown format based on the research summary.\",\n",
    "    expected_output=\"A well-structured blog post in markdown.\",\n",
    "    agent=writer,\n",
    "    output_file=\"blog-post/new_post.md\"\n",
    ")\n",
    "\n",
    "# Create crew\n",
    "crew = Crew(\n",
    "    agents=[researcher, writer],\n",
    "    tasks=[research_task, write_task],\n",
    "    verbose=False,\n",
    "    planning=True\n",
    ")\n",
    "\n",
    "# Run\n",
    "result = crew.kickoff()\n",
    "\n",
    "# Output result\n",
    "print(\"\\n=== FINAL OUTPUT ===\\n\")\n",
    "print(result)\n"
   ]
  },
  {
   "cell_type": "code",
   "execution_count": null,
   "id": "24c7d971",
   "metadata": {},
   "outputs": [],
   "source": []
  },
  {
   "cell_type": "code",
   "execution_count": null,
   "id": "99ff858a",
   "metadata": {},
   "outputs": [],
   "source": []
  },
  {
   "cell_type": "code",
   "execution_count": null,
   "id": "fcffec8f",
   "metadata": {},
   "outputs": [],
   "source": []
  },
  {
   "cell_type": "code",
   "execution_count": null,
   "id": "278bbc99",
   "metadata": {},
   "outputs": [],
   "source": []
  }
 ],
 "metadata": {
  "kernelspec": {
   "display_name": "langchain-env",
   "language": "python",
   "name": "python3"
  },
  "language_info": {
   "codemirror_mode": {
    "name": "ipython",
    "version": 3
   },
   "file_extension": ".py",
   "mimetype": "text/x-python",
   "name": "python",
   "nbconvert_exporter": "python",
   "pygments_lexer": "ipython3",
   "version": "3.10.13"
  }
 },
 "nbformat": 4,
 "nbformat_minor": 5
}
