{
 "cells": [
  {
   "cell_type": "code",
   "execution_count": 1,
   "id": "3a77eca3",
   "metadata": {},
   "outputs": [],
   "source": [
    "import os\n",
    "import re\n",
    "from dotenv import load_dotenv\n",
    "from langchain.chat_models import ChatOpenAI\n",
    "from langchain.agents import initialize_agent, Tool, AgentType\n",
    "from langchain.memory import ConversationBufferMemory"
   ]
  },
  {
   "cell_type": "code",
   "execution_count": 2,
   "id": "d5ab893d",
   "metadata": {},
   "outputs": [
    {
     "data": {
      "text/plain": [
       "True"
      ]
     },
     "execution_count": 2,
     "metadata": {},
     "output_type": "execute_result"
    }
   ],
   "source": [
    "load_dotenv()"
   ]
  },
  {
   "cell_type": "code",
   "execution_count": 3,
   "id": "7cbce4df",
   "metadata": {},
   "outputs": [],
   "source": [
    "LANGCHAIN_TRACING_V2 = \"true\"\n",
    "LANGSMITH_ENDPOINT = \"https://api.smith.langchain.com\"\n",
    "LANGSMITH_PROJECT = \"Information_Extractor\"\n",
    "LANGCHAIN_API_KEY = os.getenv(\"LANGSMITH_API_KEY\")\n",
    "OPENAI_API_KEY = os.getenv(\"GROQ_API\")"
   ]
  },
  {
   "cell_type": "code",
   "execution_count": null,
   "id": "23653c0d",
   "metadata": {},
   "outputs": [
    {
     "name": "stderr",
     "output_type": "stream",
     "text": [
      "/var/folders/3c/n16ntvpx71gczgh_k1wjf9_c0000gp/T/ipykernel_21872/3100698544.py:2: LangChainDeprecationWarning: The class `ChatOpenAI` was deprecated in LangChain 0.0.10 and will be removed in 1.0. An updated version of the class exists in the :class:`~langchain-openai package and should be used instead. To use it run `pip install -U :class:`~langchain-openai` and import as `from :class:`~langchain_openai import ChatOpenAI``.\n",
      "  llm = ChatOpenAI(\n"
     ]
    }
   ],
   "source": [
    "# Initialize the Groq LLM through LangChain\n",
    "llm = ChatOpenAI(\n",
    "    model=\"llama3-70b-8192\",\n",
    "    base_url=\"https://api.groq.com/openai/v1\",\n",
    "    openai_api_key=OPENAI_API_KEY,\n",
    "    temperature=0.0,\n",
    ")"
   ]
  },
  {
   "cell_type": "code",
   "execution_count": 5,
   "id": "3612f51f",
   "metadata": {},
   "outputs": [
    {
     "name": "stderr",
     "output_type": "stream",
     "text": [
      "/var/folders/3c/n16ntvpx71gczgh_k1wjf9_c0000gp/T/ipykernel_21872/3353824168.py:1: LangChainDeprecationWarning: Please see the migration guide at: https://python.langchain.com/docs/versions/migrating_memory/\n",
      "  memory = ConversationBufferMemory(memory_key=\"chat_history\", return_messages=True)\n"
     ]
    }
   ],
   "source": [
    "memory = ConversationBufferMemory(memory_key=\"chat_history\", return_messages=True)"
   ]
  },
  {
   "cell_type": "code",
   "execution_count": 6,
   "id": "1b8d45d0",
   "metadata": {},
   "outputs": [],
   "source": [
    "application_info = {\n",
    "    \"name\" : None,\n",
    "    \"email\" : None,\n",
    "    \"skills\" : None\n",
    "}"
   ]
  },
  {
   "cell_type": "code",
   "execution_count": 7,
   "id": "a1992ccc",
   "metadata": {},
   "outputs": [],
   "source": [
    "def extract_application_info(text: str) -> str:\n",
    "    name_match = re.search(r\"(?:my name is|i am)\\s+([A-Z][a-z]+(?:\\s+[A-Z][a-z]+)*)\", text, re.IGNORECASE) \n",
    "    email_match = re.search(r\"\\b[\\w.-]+@[\\w.-]+\\.\\w+\\b\", text)  \n",
    "    skills_match = re.search(r\"(?:skills are|i know|i can use)\\s+(.+)\", text, re.IGNORECASE)\n",
    "    \n",
    "    response = []\n",
    "    \n",
    "    if name_match:\n",
    "        application_info['name'] = name_match\n",
    "        response.append(\"Name Saved\")\n",
    "        \n",
    "    if email_match:\n",
    "        application_info[\"email\"] = email_match.group(0)\n",
    "        response.append(\"✅ Email saved.\")\n",
    "    \n",
    "    if skills_match:\n",
    "        application_info[\"skills\"] = skills_match.group(1).strip()\n",
    "        response.append(\"✅ Skills saved.\")\n",
    "        \n",
    "    if not any([name_match, email_match, skills_match]):\n",
    "        return \"❓ I couldn't extract any info. Could you please provide your name, email, or skills?\"\n",
    "\n",
    "    return \" \".join(response) + \" Let me check what else I need.\""
   ]
  },
  {
   "cell_type": "code",
   "execution_count": 8,
   "id": "2abd12af",
   "metadata": {},
   "outputs": [],
   "source": [
    "def check_application_goal(_: str) -> str:\n",
    "    if all(application_info.values()):\n",
    "        return f\"✅ You're ready! Name: {application_info['name']}, Email: {application_info['email']}, Skills: {application_info['skills']}.\"\n",
    "    else:\n",
    "        missing = [k for k, v in application_info.items() if not v]\n",
    "        return f\"⏳ Still need: {', '.join(missing)}. Please ask the user to provide this.\""
   ]
  },
  {
   "cell_type": "code",
   "execution_count": 9,
   "id": "f3a0190a",
   "metadata": {},
   "outputs": [],
   "source": [
    "tools = [\n",
    "    Tool(\n",
    "        name=\"extract_application_info\",\n",
    "        func=extract_application_info,\n",
    "        description=\"Use this to extract name, email, and skills from the user's message.\"\n",
    "    ),\n",
    "    Tool(\n",
    "        name=\"check_application_goal\",\n",
    "        func=check_application_goal,\n",
    "        description=\"Check if name, email, and skills are provided. If not, tell the user what is missing.\"\n",
    "    )\n",
    "]"
   ]
  },
  {
   "cell_type": "code",
   "execution_count": 10,
   "id": "423109ed",
   "metadata": {},
   "outputs": [],
   "source": [
    "SYSTEM_PROMPT = \"\"\"You are a helpful job application assistant. \n",
    "Your goal is to collect the user's name, email, and skills. \n",
    "Use the tools provided to extract this information and check whether all required data is collected.\n",
    "Once everything is collected, inform the user that the application info is complete and stop.\n",
    "\"\"\""
   ]
  },
  {
   "cell_type": "code",
   "execution_count": 11,
   "id": "0944d9f0",
   "metadata": {},
   "outputs": [
    {
     "name": "stderr",
     "output_type": "stream",
     "text": [
      "/var/folders/3c/n16ntvpx71gczgh_k1wjf9_c0000gp/T/ipykernel_21872/897628637.py:1: LangChainDeprecationWarning: LangChain agents will continue to be supported, but it is recommended for new use cases to be built with LangGraph. LangGraph offers a more flexible and full-featured framework for building agents, including support for tool-calling, persistence of state, and human-in-the-loop workflows. For details, refer to the `LangGraph documentation <https://langchain-ai.github.io/langgraph/>`_ as well as guides for `Migrating from AgentExecutor <https://python.langchain.com/docs/how_to/migrate_agent/>`_ and LangGraph's `Pre-built ReAct agent <https://langchain-ai.github.io/langgraph/how-tos/create-react-agent/>`_.\n",
      "  agent = initialize_agent(\n"
     ]
    }
   ],
   "source": [
    "agent = initialize_agent(\n",
    "    tools=tools,\n",
    "    llm=llm,\n",
    "    memory = memory,\n",
    "    agent=AgentType.CHAT_CONVERSATIONAL_REACT_DESCRIPTION,\n",
    "    verbose=True,\n",
    "    agent_kwargs={\"system_message\": SYSTEM_PROMPT}\n",
    ")"
   ]
  },
  {
   "cell_type": "code",
   "execution_count": 12,
   "id": "ed034971",
   "metadata": {},
   "outputs": [
    {
     "name": "stdout",
     "output_type": "stream",
     "text": [
      "📝 Hi! I'm your job application assistant. Please tell me your name, email, and skills.\n"
     ]
    }
   ],
   "source": [
    "print(\"📝 Hi! I'm your job application assistant. Please tell me your name, email, and skills.\")"
   ]
  },
  {
   "cell_type": "code",
   "execution_count": 13,
   "id": "9e367b59",
   "metadata": {},
   "outputs": [
    {
     "name": "stdout",
     "output_type": "stream",
     "text": [
      "\n",
      "\n",
      "\u001b[1m> Entering new AgentExecutor chain...\u001b[0m\n",
      "\u001b[32;1m\u001b[1;3m```\n",
      "{\n",
      "    \"action\": \"extract_application_info\",\n",
      "    \"action_input\": \"my name yash, email is yash@gm.com and skills are python.\"\n",
      "}\n",
      "```\u001b[0m\n",
      "Observation: \u001b[36;1m\u001b[1;3m✅ Email saved. ✅ Skills saved. Let me check what else I need.\u001b[0m\n",
      "Thought:\u001b[32;1m\u001b[1;3m```\n",
      "{\n",
      "    \"action\": \"Final Answer\",\n",
      "    \"action_input\": \"I have your email as yash@gm.com and skills as python. But I'm still missing your name.\"\n",
      "}\n",
      "```\u001b[0m\n",
      "\n",
      "\u001b[1m> Finished chain.\u001b[0m\n",
      "Bot:  I have your email as yash@gm.com and skills as python. But I'm still missing your name.\n",
      "\n",
      "\n",
      "\u001b[1m> Entering new AgentExecutor chain...\u001b[0m\n",
      "\u001b[32;1m\u001b[1;3m```\n",
      "{\n",
      "    \"action\": \"extract_application_info\",\n",
      "    \"action_input\": \"my name is yash, email is yash@gm.com and skills are python\"\n",
      "}\n",
      "```\u001b[0m\n",
      "Observation: \u001b[36;1m\u001b[1;3mName Saved ✅ Email saved. ✅ Skills saved. Let me check what else I need.\u001b[0m\n",
      "Thought:\u001b[32;1m\u001b[1;3m```\n",
      "{\n",
      "    \"action\": \"Final Answer\",\n",
      "    \"action_input\": \"Application info is complete. Your name is yash, email is yash@gm.com and skills are python.\"\n",
      "}\n",
      "```\u001b[0m\n",
      "\n",
      "\u001b[1m> Finished chain.\u001b[0m\n",
      "Bot:  Application info is complete. Your name is yash, email is yash@gm.com and skills are python.\n",
      "\n",
      "\n",
      "\u001b[1m> Entering new AgentExecutor chain...\u001b[0m\n",
      "\u001b[32;1m\u001b[1;3m```\n",
      "{\n",
      "    \"action\": \"extract_application_info\",\n",
      "    \"action_input\": \"Bye\"\n",
      "}\n",
      "```\u001b[0m\n",
      "Observation: \u001b[36;1m\u001b[1;3m❓ I couldn't extract any info. Could you please provide your name, email, or skills?\u001b[0m\n",
      "Thought:\u001b[32;1m\u001b[1;3m```\n",
      "{\n",
      "    \"action\": \"check_application_goal\",\n",
      "    \"action_input\": \"None\"\n",
      "}\n",
      "```\u001b[0m\n",
      "Observation: \u001b[33;1m\u001b[1;3m✅ You're ready! Name: <re.Match object; span=(0, 15), match='my name is yash'>, Email: yash@gm.com, Skills: python.\u001b[0m\n",
      "Thought:\u001b[32;1m\u001b[1;3m```\n",
      "{\n",
      "    \"action\": \"Final Answer\",\n",
      "    \"action_input\": \"Application info is complete. Your name is yash, email is yash@gm.com and skills are python.\"\n",
      "}\n",
      "```\u001b[0m\n",
      "\n",
      "\u001b[1m> Finished chain.\u001b[0m\n",
      "Bot:  Application info is complete. Your name is yash, email is yash@gm.com and skills are python.\n",
      "Bye! Good Luck\n"
     ]
    }
   ],
   "source": [
    "while True:\n",
    "    \n",
    "    user_input = input(\"You: \")\n",
    "    \n",
    "    if user_input.lower() in [\"exit\", \"quit\"]:\n",
    "        print(\"Bye! Good Luck\")\n",
    "        break\n",
    "    \n",
    "    response = agent.invoke({\"input\": user_input})\n",
    "    print(\"Bot: \", response[\"output\"])\n",
    "    \n",
    "    # if Goal achieved, stop\n",
    "    if \"you're ready\" in response[\"output\"].lower():\n",
    "        print(\"Application Info Completed.\")\n"
   ]
  },
  {
   "cell_type": "code",
   "execution_count": null,
   "id": "1d286f3a",
   "metadata": {},
   "outputs": [],
   "source": []
  },
  {
   "cell_type": "code",
   "execution_count": null,
   "id": "0cce0454",
   "metadata": {},
   "outputs": [],
   "source": []
  }
 ],
 "metadata": {
  "kernelspec": {
   "display_name": "langchain-env",
   "language": "python",
   "name": "python3"
  },
  "language_info": {
   "codemirror_mode": {
    "name": "ipython",
    "version": 3
   },
   "file_extension": ".py",
   "mimetype": "text/x-python",
   "name": "python",
   "nbconvert_exporter": "python",
   "pygments_lexer": "ipython3",
   "version": "3.10.13"
  }
 },
 "nbformat": 4,
 "nbformat_minor": 5
}
