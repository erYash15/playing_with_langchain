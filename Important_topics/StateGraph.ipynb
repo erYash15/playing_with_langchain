{
 "cells": [
  {
   "cell_type": "markdown",
   "id": "847e13fd",
   "metadata": {},
   "source": [
    "# 1. Basic State"
   ]
  },
  {
   "cell_type": "code",
   "execution_count": 45,
   "id": "353eea2d",
   "metadata": {},
   "outputs": [
    {
     "data": {
      "text/plain": [
       "{'count': 5, 'message': ['count0', 'count1', 'count2', 'count3', 'count4']}"
      ]
     },
     "execution_count": 45,
     "metadata": {},
     "output_type": "execute_result"
    }
   ],
   "source": [
    "from typing import TypedDict, List\n",
    "from langgraph.graph import StateGraph, START, END\n",
    "\n",
    "class SimpleState(TypedDict):\n",
    "    count: int\n",
    "    message: List[str]\n",
    "    \n",
    "def increment(state: SimpleState) -> SimpleState:\n",
    "    new_message = state[\"message\"] + [\"count\" + str(state[\"count\"])]\n",
    "    return {\n",
    "        \"count\": state[\"count\"] + 1,\n",
    "        \"message\": new_message\n",
    "    }\n",
    "\n",
    "    \n",
    "def should_continue(state):\n",
    "    if(state[\"count\"] < 5):\n",
    "        return \"continue\"\n",
    "    else:\n",
    "        return \"stop\"\n",
    "\n",
    "graph = StateGraph(SimpleState)\n",
    "graph.add_node(\"increment\", increment)\n",
    "graph.add_edge(START, \"increment\")\n",
    "graph.add_conditional_edges(\n",
    "    \"increment\",\n",
    "    should_continue,\n",
    "    {\n",
    "        \"continue\": \"increment\",\n",
    "        \"stop\": END\n",
    "    }\n",
    ")\n",
    "\n",
    "app = graph.compile()\n",
    "\n",
    "state = {\n",
    "    \"count\": 0,\n",
    "    \"message\": []\n",
    "}\n",
    "\n",
    "app.invoke(state)\n"
   ]
  },
  {
   "cell_type": "markdown",
   "id": "66f6c5d4",
   "metadata": {},
   "source": [
    "# Declarative Annotated State Transformation"
   ]
  },
  {
   "cell_type": "code",
   "execution_count": 52,
   "id": "6d626a87",
   "metadata": {},
   "outputs": [
    {
     "data": {
      "text/plain": [
       "{'count': 5, 'sum': 10, 'message': [1, 2, 3, 4, 5]}"
      ]
     },
     "execution_count": 52,
     "metadata": {},
     "output_type": "execute_result"
    }
   ],
   "source": [
    "from typing import TypedDict, List, Annotated\n",
    "from langgraph.graph import StateGraph, START, END\n",
    "import operator\n",
    "\n",
    "class SimpleState(TypedDict):\n",
    "    count: int\n",
    "    sum: Annotated[int, operator.add]\n",
    "    message: Annotated[List[str], operator.concat]\n",
    "    \n",
    "def increment(state: SimpleState) -> SimpleState:\n",
    "    # new_message = state[\"message\"] + [\"count\" + str(state[\"count\"])]\n",
    "    new_value = state[\"count\"] + 1\n",
    "    return {\n",
    "        \"count\": new_value,\n",
    "        \"sum\": state[\"count\"],\n",
    "        \"message\": [new_value]\n",
    "    }\n",
    "\n",
    "    \n",
    "def should_continue(state):\n",
    "    if(state[\"count\"] < 5):\n",
    "        return \"continue\"\n",
    "    else:\n",
    "        return \"stop\"\n",
    "\n",
    "graph = StateGraph(SimpleState)\n",
    "graph.add_node(\"increment\", increment)\n",
    "graph.add_edge(START, \"increment\")\n",
    "graph.add_conditional_edges(\n",
    "    \"increment\",\n",
    "    should_continue,\n",
    "    {\n",
    "        \"continue\": \"increment\",\n",
    "        \"stop\": END\n",
    "    }\n",
    ")\n",
    "\n",
    "app = graph.compile()\n",
    "\n",
    "state = {\n",
    "    \"count\": 0,\n",
    "    \"sum\": 0,\n",
    "    \"message\": []\n",
    "}\n",
    "\n",
    "app.invoke(state)\n"
   ]
  },
  {
   "cell_type": "code",
   "execution_count": null,
   "id": "bfaba7aa",
   "metadata": {},
   "outputs": [],
   "source": []
  },
  {
   "cell_type": "code",
   "execution_count": null,
   "id": "a235f295",
   "metadata": {},
   "outputs": [],
   "source": []
  },
  {
   "cell_type": "code",
   "execution_count": null,
   "id": "a01f9f56",
   "metadata": {},
   "outputs": [],
   "source": []
  },
  {
   "cell_type": "code",
   "execution_count": null,
   "id": "cbd66c58",
   "metadata": {},
   "outputs": [],
   "source": []
  }
 ],
 "metadata": {
  "kernelspec": {
   "display_name": "langchain-env",
   "language": "python",
   "name": "python3"
  },
  "language_info": {
   "codemirror_mode": {
    "name": "ipython",
    "version": 3
   },
   "file_extension": ".py",
   "mimetype": "text/x-python",
   "name": "python",
   "nbconvert_exporter": "python",
   "pygments_lexer": "ipython3",
   "version": "3.10.13"
  }
 },
 "nbformat": 4,
 "nbformat_minor": 5
}
