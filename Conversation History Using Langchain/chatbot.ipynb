{
 "cells": [
  {
   "cell_type": "code",
   "execution_count": 1,
   "id": "11a05700",
   "metadata": {},
   "outputs": [
    {
     "data": {
      "text/plain": [
       "True"
      ]
     },
     "execution_count": 1,
     "metadata": {},
     "output_type": "execute_result"
    }
   ],
   "source": [
    "import os\n",
    "from dotenv import load_dotenv\n",
    "load_dotenv()"
   ]
  },
  {
   "cell_type": "code",
   "execution_count": 2,
   "id": "6e795a20",
   "metadata": {},
   "outputs": [],
   "source": [
    "groq_api_key = os.getenv(\"GROQ_API_KEY\")"
   ]
  },
  {
   "cell_type": "code",
   "execution_count": 4,
   "id": "e6ac88c1",
   "metadata": {},
   "outputs": [
    {
     "data": {
      "text/plain": [
       "ChatGroq(client=<groq.resources.chat.completions.Completions object at 0x000002679DB8AE40>, async_client=<groq.resources.chat.completions.AsyncCompletions object at 0x000002679DBDD2B0>, model_name='Gemma2-9b-It', model_kwargs={}, groq_api_key=SecretStr('**********'))"
      ]
     },
     "execution_count": 4,
     "metadata": {},
     "output_type": "execute_result"
    }
   ],
   "source": [
    "from langchain_groq import ChatGroq\n",
    "model=ChatGroq(model=\"Gemma2-9b-It\", groq_api_key=groq_api_key)\n",
    "model"
   ]
  },
  {
   "cell_type": "code",
   "execution_count": 11,
   "id": "4f572ff3",
   "metadata": {},
   "outputs": [
    {
     "data": {
      "text/plain": [
       "AIMessage(content=\"Hi Yash, it's nice to meet you!\\n\\nBeing a Junior Data Scientist is an exciting time. What kind of projects are you working on? What are you most passionate about in the field of data science? \\n\\nI'm happy to chat about anything related to data science, or just general conversation if you'd prefer. 😊  \\n\\n\", additional_kwargs={}, response_metadata={'token_usage': {'completion_tokens': 75, 'prompt_tokens': 20, 'total_tokens': 95, 'completion_time': 0.136363636, 'prompt_time': 0.001945386, 'queue_time': 0.236244997, 'total_time': 0.138309022}, 'model_name': 'Gemma2-9b-It', 'system_fingerprint': 'fp_10c08bf97d', 'finish_reason': 'stop', 'logprobs': None}, id='run-3cd9e42e-681b-4e9c-b06e-7ed2f6115afd-0', usage_metadata={'input_tokens': 20, 'output_tokens': 75, 'total_tokens': 95})"
      ]
     },
     "execution_count": 11,
     "metadata": {},
     "output_type": "execute_result"
    }
   ],
   "source": [
    "from langchain_core.messages import HumanMessage\n",
    "\n",
    "output = model.invoke([HumanMessage(content=\"Hi, My name is Yash I am Junior Data Scientist\")])\n",
    "output"
   ]
  },
  {
   "cell_type": "code",
   "execution_count": 9,
   "id": "a88f19fc",
   "metadata": {},
   "outputs": [
    {
     "data": {
      "text/plain": [
       "langchain_core.messages.ai.AIMessage"
      ]
     },
     "execution_count": 9,
     "metadata": {},
     "output_type": "execute_result"
    }
   ],
   "source": [
    "type(output)"
   ]
  },
  {
   "cell_type": "code",
   "execution_count": 10,
   "id": "6cb5b914",
   "metadata": {},
   "outputs": [
    {
     "data": {
      "text/plain": [
       "AIMessage(content=\"You are Yash, and you are a Junior Data Scientist.  \\n\\nIs there anything else you'd like to know or talk about?  I'm happy to help! 😊 \\n\", additional_kwargs={}, response_metadata={'token_usage': {'completion_tokens': 41, 'prompt_tokens': 115, 'total_tokens': 156, 'completion_time': 0.074545455, 'prompt_time': 0.005971722, 'queue_time': 0.23205257199999998, 'total_time': 0.080517177}, 'model_name': 'Gemma2-9b-It', 'system_fingerprint': 'fp_10c08bf97d', 'finish_reason': 'stop', 'logprobs': None}, id='run-1e418218-f5d8-4a21-9e4a-7ec573b43353-0', usage_metadata={'input_tokens': 115, 'output_tokens': 41, 'total_tokens': 156})"
      ]
     },
     "execution_count": 10,
     "metadata": {},
     "output_type": "execute_result"
    }
   ],
   "source": [
    "from langchain_core.messages import AIMessage\n",
    "model.invoke(\n",
    "    [\n",
    "        HumanMessage(content=\"Hi, My name is Yash I am Junior Data Scientist\"),\n",
    "        output,\n",
    "        HumanMessage(\"Whats my name and what I do?\")\n",
    "    ]\n",
    ")"
   ]
  },
  {
   "cell_type": "code",
   "execution_count": 12,
   "id": "9638ee91",
   "metadata": {},
   "outputs": [],
   "source": [
    "## Message History\n",
    "from langchain_community.chat_message_histories import ChatMessageHistory\n",
    "from langchain_core.chat_history import BaseChatMessageHistory\n",
    "from langchain_core.runnables import RunnableWithMessageHistory"
   ]
  },
  {
   "cell_type": "code",
   "execution_count": 14,
   "id": "f50547a6",
   "metadata": {},
   "outputs": [],
   "source": [
    "store = {}\n",
    "\n",
    "def get_session_history(session_id: str)-> BaseChatMessageHistory:\n",
    "    if session_id not in store:\n",
    "        store[session_id] = ChatMessageHistory()\n",
    "    return store[session_id]\n",
    "\n",
    "with_message_history = RunnableWithMessageHistory(model, get_session_history)"
   ]
  },
  {
   "cell_type": "code",
   "execution_count": 16,
   "id": "d0af7424",
   "metadata": {},
   "outputs": [],
   "source": [
    "config = {\"configurable\": {\"session_id\":\"chat1\"}}"
   ]
  },
  {
   "cell_type": "code",
   "execution_count": 17,
   "id": "9d93af14",
   "metadata": {},
   "outputs": [],
   "source": [
    "response = with_message_history.invoke(\n",
    "    [HumanMessage(content=\"Hi, My name is Yash Gupta\")],\n",
    "    config=config\n",
    ")"
   ]
  },
  {
   "cell_type": "code",
   "execution_count": 18,
   "id": "0d7c9048",
   "metadata": {},
   "outputs": [
    {
     "data": {
      "text/plain": [
       "\"Hello Yash Gupta, it's nice to meet you! \\n\\nWhat can I do for you today? 😊  \\n\\n\""
      ]
     },
     "execution_count": 18,
     "metadata": {},
     "output_type": "execute_result"
    }
   ],
   "source": [
    "response.content"
   ]
  },
  {
   "cell_type": "code",
   "execution_count": 19,
   "id": "c9972c09",
   "metadata": {},
   "outputs": [
    {
     "data": {
      "text/plain": [
       "{'chat1': InMemoryChatMessageHistory(messages=[HumanMessage(content='Hi, My name is Yash Gupta', additional_kwargs={}, response_metadata={}), AIMessage(content=\"Hello Yash Gupta, it's nice to meet you! \\n\\nWhat can I do for you today? 😊  \\n\\n\", additional_kwargs={}, response_metadata={'token_usage': {'completion_tokens': 28, 'prompt_tokens': 16, 'total_tokens': 44, 'completion_time': 0.050909091, 'prompt_time': 0.001911935, 'queue_time': 0.238794506, 'total_time': 0.052821026}, 'model_name': 'Gemma2-9b-It', 'system_fingerprint': 'fp_10c08bf97d', 'finish_reason': 'stop', 'logprobs': None}, id='run-09db0b2e-2d0b-4099-8bd3-5f1e0fd0a8ae-0', usage_metadata={'input_tokens': 16, 'output_tokens': 28, 'total_tokens': 44})])}"
      ]
     },
     "execution_count": 19,
     "metadata": {},
     "output_type": "execute_result"
    }
   ],
   "source": [
    "store"
   ]
  },
  {
   "cell_type": "code",
   "execution_count": 20,
   "id": "a52f94d4",
   "metadata": {},
   "outputs": [
    {
     "data": {
      "text/plain": [
       "AIMessage(content='Your name is Yash Gupta. 😊  \\n\\nIs there anything else I can help you with?\\n', additional_kwargs={}, response_metadata={'token_usage': {'completion_tokens': 22, 'prompt_tokens': 55, 'total_tokens': 77, 'completion_time': 0.04, 'prompt_time': 0.003787531, 'queue_time': 0.232166393, 'total_time': 0.043787531}, 'model_name': 'Gemma2-9b-It', 'system_fingerprint': 'fp_10c08bf97d', 'finish_reason': 'stop', 'logprobs': None}, id='run-64a651a3-25fd-4adb-9d2a-cb341df22cc1-0', usage_metadata={'input_tokens': 55, 'output_tokens': 22, 'total_tokens': 77})"
      ]
     },
     "execution_count": 20,
     "metadata": {},
     "output_type": "execute_result"
    }
   ],
   "source": [
    "with_message_history.invoke(\n",
    "    [HumanMessage(content=\"what is my name\")],\n",
    "    config=config\n",
    ")"
   ]
  },
  {
   "cell_type": "code",
   "execution_count": 26,
   "id": "ffd0eb09",
   "metadata": {},
   "outputs": [
    {
     "data": {
      "text/plain": [
       "AIMessage(content=\"You'll have to tell me! I'm ready when you are. 😊  \\n\\nWhat's your name?  \\n\", additional_kwargs={}, response_metadata={'token_usage': {'completion_tokens': 29, 'prompt_tokens': 189, 'total_tokens': 218, 'completion_time': 0.052727273, 'prompt_time': 0.007457134, 'queue_time': 0.23403422599999998, 'total_time': 0.060184407}, 'model_name': 'Gemma2-9b-It', 'system_fingerprint': 'fp_10c08bf97d', 'finish_reason': 'stop', 'logprobs': None}, id='run-f9193b2c-3285-47a1-b57d-db80e137578c-0', usage_metadata={'input_tokens': 189, 'output_tokens': 29, 'total_tokens': 218})"
      ]
     },
     "execution_count": 26,
     "metadata": {},
     "output_type": "execute_result"
    }
   ],
   "source": [
    "## change the config\n",
    "config1 = {\"configurable\": {\"session_id\":\"chat2\"}}\n",
    "\n",
    "response = with_message_history.invoke(\n",
    "    [HumanMessage(content=\"what's my name?\")],\n",
    "    config = config1\n",
    ")\n",
    "response"
   ]
  },
  {
   "cell_type": "code",
   "execution_count": 30,
   "id": "531da74e",
   "metadata": {},
   "outputs": [
    {
     "data": {
      "text/plain": [
       "[HumanMessage(content=\"what's my name?\", additional_kwargs={}, response_metadata={}),\n",
       " AIMessage(content=\"As an AI, I have no memory of past conversations and do not know your name. If you'd like to tell me, I'd be happy to use it! 😊\\n\", additional_kwargs={}, response_metadata={'token_usage': {'completion_tokens': 40, 'prompt_tokens': 15, 'total_tokens': 55, 'completion_time': 0.072727273, 'prompt_time': 0.001902655, 'queue_time': 0.23454237, 'total_time': 0.074629928}, 'model_name': 'Gemma2-9b-It', 'system_fingerprint': 'fp_10c08bf97d', 'finish_reason': 'stop', 'logprobs': None}, id='run-ce5114f6-29ce-4f4f-a8bb-8e59e5747568-0', usage_metadata={'input_tokens': 15, 'output_tokens': 40, 'total_tokens': 55}),\n",
       " HumanMessage(content=\"what's my name?\", additional_kwargs={}, response_metadata={}),\n",
       " AIMessage(content=\"Since I don't have access to past conversations, I don't know your name.  \\n\\nIf you'd like to tell me, I'm happy to learn it! 😊  \\n\\n\", additional_kwargs={}, response_metadata={'token_usage': {'completion_tokens': 44, 'prompt_tokens': 69, 'total_tokens': 113, 'completion_time': 0.08, 'prompt_time': 0.003952791, 'queue_time': 0.235839572, 'total_time': 0.083952791}, 'model_name': 'Gemma2-9b-It', 'system_fingerprint': 'fp_10c08bf97d', 'finish_reason': 'stop', 'logprobs': None}, id='run-4602cdce-69e1-4257-9448-2c2110ce6229-0', usage_metadata={'input_tokens': 69, 'output_tokens': 44, 'total_tokens': 113}),\n",
       " HumanMessage(content=\"what's my name?\", additional_kwargs={}, response_metadata={}),\n",
       " AIMessage(content=\"I still don't know your name! I'm just a language model, I don't have any memory of previous conversations. \\n\\nIf you want to tell me, I'm all ears! 😊👂  \\n\\n\", additional_kwargs={}, response_metadata={'token_usage': {'completion_tokens': 50, 'prompt_tokens': 126, 'total_tokens': 176, 'completion_time': 0.090909091, 'prompt_time': 0.006784285, 'queue_time': 0.232358705, 'total_time': 0.097693376}, 'model_name': 'Gemma2-9b-It', 'system_fingerprint': 'fp_10c08bf97d', 'finish_reason': 'stop', 'logprobs': None}, id='run-3b1c6dc0-5ce2-482d-942e-aecf2448234d-0', usage_metadata={'input_tokens': 126, 'output_tokens': 50, 'total_tokens': 176}),\n",
       " HumanMessage(content=\"what's my name?\", additional_kwargs={}, response_metadata={}),\n",
       " AIMessage(content=\"You'll have to tell me! I'm ready when you are. 😊  \\n\\nWhat's your name?  \\n\", additional_kwargs={}, response_metadata={'token_usage': {'completion_tokens': 29, 'prompt_tokens': 189, 'total_tokens': 218, 'completion_time': 0.052727273, 'prompt_time': 0.007457134, 'queue_time': 0.23403422599999998, 'total_time': 0.060184407}, 'model_name': 'Gemma2-9b-It', 'system_fingerprint': 'fp_10c08bf97d', 'finish_reason': 'stop', 'logprobs': None}, id='run-f9193b2c-3285-47a1-b57d-db80e137578c-0', usage_metadata={'input_tokens': 189, 'output_tokens': 29, 'total_tokens': 218})]"
      ]
     },
     "execution_count": 30,
     "metadata": {},
     "output_type": "execute_result"
    }
   ],
   "source": [
    "store['chat2'].messages"
   ]
  },
  {
   "cell_type": "markdown",
   "id": "e360f442",
   "metadata": {},
   "source": [
    "# Prompt Template"
   ]
  },
  {
   "cell_type": "code",
   "execution_count": 31,
   "id": "c22edb00",
   "metadata": {},
   "outputs": [],
   "source": [
    "from langchain_core.prompts import ChatPromptTemplate, MessagesPlaceholder"
   ]
  },
  {
   "cell_type": "code",
   "execution_count": 33,
   "id": "3a1e9e58",
   "metadata": {},
   "outputs": [],
   "source": [
    "prompt = ChatPromptTemplate.from_messages(\n",
    "    [\n",
    "        (\"system\", \"You are a helpful assistant. Answer all the question with start work 'groq'\"),\n",
    "        MessagesPlaceholder(variable_name=\"message\")\n",
    "    ]\n",
    ")\n",
    "\n",
    "chain = prompt|model"
   ]
  },
  {
   "cell_type": "code",
   "execution_count": 35,
   "id": "cf92c652",
   "metadata": {},
   "outputs": [
    {
     "data": {
      "text/plain": [
       "AIMessage(content=\"groq Hello Yash! It's nice to meet you. How can I help you today? \\n\", additional_kwargs={}, response_metadata={'token_usage': {'completion_tokens': 24, 'prompt_tokens': 32, 'total_tokens': 56, 'completion_time': 0.043636364, 'prompt_time': 0.002349955, 'queue_time': 0.23457344600000002, 'total_time': 0.045986319}, 'model_name': 'Gemma2-9b-It', 'system_fingerprint': 'fp_10c08bf97d', 'finish_reason': 'stop', 'logprobs': None}, id='run-024bd7a3-f5f3-4e00-987d-37e263dfbc7b-0', usage_metadata={'input_tokens': 32, 'output_tokens': 24, 'total_tokens': 56})"
      ]
     },
     "execution_count": 35,
     "metadata": {},
     "output_type": "execute_result"
    }
   ],
   "source": [
    "chain.invoke({\"message\":[HumanMessage(content=\"Hi, My name is Yash\")] })"
   ]
  },
  {
   "cell_type": "code",
   "execution_count": 36,
   "id": "b2d85eb6",
   "metadata": {},
   "outputs": [],
   "source": [
    "## Add more complexity\n",
    "\n",
    "prompt = ChatPromptTemplate.from_messages(\n",
    "    [\n",
    "        (\"system\", \"You are a helpful assistant. Answer all the question with start work '{keyword}'\"),\n",
    "        MessagesPlaceholder(variable_name=\"message\")\n",
    "    ]\n",
    ")\n",
    "\n",
    "chain = prompt|model"
   ]
  },
  {
   "cell_type": "code",
   "execution_count": 37,
   "id": "e428dfad",
   "metadata": {},
   "outputs": [
    {
     "data": {
      "text/plain": [
       "AIMessage(content=\"groq Hi Yash, it's nice to meet you! How can I help you today? \\n\", additional_kwargs={}, response_metadata={'token_usage': {'completion_tokens': 24, 'prompt_tokens': 32, 'total_tokens': 56, 'completion_time': 0.043636364, 'prompt_time': 0.002895274, 'queue_time': 0.24017863, 'total_time': 0.046531638}, 'model_name': 'Gemma2-9b-It', 'system_fingerprint': 'fp_10c08bf97d', 'finish_reason': 'stop', 'logprobs': None}, id='run-75191cc2-fb4a-4af6-865a-2e9848ed2402-0', usage_metadata={'input_tokens': 32, 'output_tokens': 24, 'total_tokens': 56})"
      ]
     },
     "execution_count": 37,
     "metadata": {},
     "output_type": "execute_result"
    }
   ],
   "source": [
    "chain.invoke({\"message\":[HumanMessage(content=\"Hi, My name is Yash\")], \"keyword\": \"groq\" })"
   ]
  },
  {
   "cell_type": "code",
   "execution_count": 48,
   "id": "276aeb0e",
   "metadata": {},
   "outputs": [],
   "source": [
    "with_message_history=RunnableWithMessageHistory(\n",
    "    chain,\n",
    "    get_session_history,\n",
    "    input_messages_key=\"message\"\n",
    ")"
   ]
  },
  {
   "cell_type": "code",
   "execution_count": 49,
   "id": "0a2398eb",
   "metadata": {},
   "outputs": [],
   "source": [
    "config = {\"configurable\": {\"session_id\":\"chat4\"}}"
   ]
  },
  {
   "cell_type": "code",
   "execution_count": 50,
   "id": "75c2bc73",
   "metadata": {},
   "outputs": [],
   "source": [
    "response = with_message_history.invoke(\n",
    "    {\"message\":[HumanMessage(content=\"Hi, My name is Yash\")], \"keyword\": \"Hindi\"},\n",
    "    config=config\n",
    ")"
   ]
  },
  {
   "cell_type": "code",
   "execution_count": 51,
   "id": "d6facd22",
   "metadata": {},
   "outputs": [
    {
     "data": {
      "text/plain": [
       "AIMessage(content='Hindi: नमस्ते यश!  😊 \\n\\nमुझे आपसे मिलकर बहुत खुशी हो रही है.  आप क्या करना चाहते हैं? \\n', additional_kwargs={}, response_metadata={'token_usage': {'completion_tokens': 38, 'prompt_tokens': 115, 'total_tokens': 153, 'completion_time': 0.069090909, 'prompt_time': 0.005316791, 'queue_time': 0.23676953, 'total_time': 0.0744077}, 'model_name': 'Gemma2-9b-It', 'system_fingerprint': 'fp_10c08bf97d', 'finish_reason': 'stop', 'logprobs': None}, id='run-b200cec0-9f8a-4e7f-986e-2d03b533390d-0', usage_metadata={'input_tokens': 115, 'output_tokens': 38, 'total_tokens': 153})"
      ]
     },
     "execution_count": 51,
     "metadata": {},
     "output_type": "execute_result"
    }
   ],
   "source": [
    "response"
   ]
  },
  {
   "cell_type": "code",
   "execution_count": null,
   "id": "94c03f84",
   "metadata": {},
   "outputs": [],
   "source": []
  },
  {
   "cell_type": "code",
   "execution_count": 52,
   "id": "2e1faff8",
   "metadata": {},
   "outputs": [],
   "source": [
    "## Managing the COnversation History"
   ]
  },
  {
   "cell_type": "code",
   "execution_count": null,
   "id": "6e4b294b",
   "metadata": {},
   "outputs": [],
   "source": []
  }
 ],
 "metadata": {
  "kernelspec": {
   "display_name": ".venv",
   "language": "python",
   "name": "python3"
  },
  "language_info": {
   "codemirror_mode": {
    "name": "ipython",
    "version": 3
   },
   "file_extension": ".py",
   "mimetype": "text/x-python",
   "name": "python",
   "nbconvert_exporter": "python",
   "pygments_lexer": "ipython3",
   "version": "3.13.3"
  }
 },
 "nbformat": 4,
 "nbformat_minor": 5
}
