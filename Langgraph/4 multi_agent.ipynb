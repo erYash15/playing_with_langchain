{
 "cells": [
  {
   "cell_type": "code",
   "execution_count": 7,
   "id": "924e2ca2",
   "metadata": {},
   "outputs": [],
   "source": [
    "import os\n",
    "from dotenv import load_dotenv\n",
    "from langchain_openai import ChatOpenAI\n",
    "\n",
    "from langgraph_supervisor import create_supervisor\n",
    "from langgraph.prebuilt import create_react_agent\n",
    "from langchain_community.tools import DuckDuckGoSearchRun"
   ]
  },
  {
   "cell_type": "code",
   "execution_count": null,
   "id": "13480144",
   "metadata": {},
   "outputs": [],
   "source": []
  },
  {
   "cell_type": "code",
   "execution_count": 3,
   "id": "80c9b9f7",
   "metadata": {},
   "outputs": [],
   "source": [
    "# Load environment variables\n",
    "load_dotenv()\n",
    "\n",
    "# Initialize LLM and memory\n",
    "os.environ[\"LANGCHAIN_TRACING_V2\"] = \"true\"\n",
    "os.environ[\"LANGSMITH_ENDPOINT\"] = \"https://api.smith.langchain.com\"\n",
    "os.environ[\"LANGSMITH_PROJECT\"] = \"Information_Extractor\"\n",
    "LANGCHAIN_API_KEY = os.getenv(\"LANGSMITH_API_KEY\")\n",
    "OPENAI_API_KEY = os.getenv(\"OPEN_API\")\n"
   ]
  },
  {
   "cell_type": "code",
   "execution_count": 11,
   "id": "db513893",
   "metadata": {},
   "outputs": [],
   "source": [
    "llm = ChatOpenAI(\n",
    "    model=\"gpt-4o-mini\",\n",
    "    openai_api_key=OPENAI_API_KEY,\n",
    "    temperature=0,\n",
    ")"
   ]
  },
  {
   "cell_type": "code",
   "execution_count": 13,
   "id": "9090f6ce",
   "metadata": {},
   "outputs": [],
   "source": [
    "def search_duckduckgo(query: str):\n",
    "    \"\"\"Searches DuckDuckGo using LangChain's DuckDuckGoSearchRun tool.\"\"\"\n",
    "    search = DuckDuckGoSearchRun()\n",
    "    return search.invoke(query)\n",
    "\n",
    "def multiply(a:int,b:int) -> int:\n",
    "    \"\"\"\n",
    "    Multiply a and b\n",
    "    \"\"\"\n",
    "    return a/ b\n",
    "\n",
    "def add(a:int,b:int) -> int:\n",
    "    \"\"\"\n",
    "    Adds a and b\n",
    "    \"\"\"\n",
    "    return a + b"
   ]
  },
  {
   "cell_type": "code",
   "execution_count": 22,
   "id": "69d054a7",
   "metadata": {},
   "outputs": [],
   "source": [
    "maths_agent = create_react_agent(\n",
    "    model = llm,\n",
    "    tools = [add, multiply],\n",
    "    name = \"maths_expert\", \n",
    "    prompt=\"For maths related task use. Always use only one tool at a time.\"\n",
    "    )\n",
    "\n",
    "research_agent = create_react_agent(\n",
    "    model=llm,\n",
    "    tools=[search_duckduckgo],\n",
    "    name=\"research_expert\",\n",
    "    prompt=\"for research related task with access to web search return something if possible. Do not do maths.\"\n",
    ")\n"
   ]
  },
  {
   "cell_type": "code",
   "execution_count": 23,
   "id": "6f6923fa",
   "metadata": {},
   "outputs": [],
   "source": [
    "workflow = create_supervisor(\n",
    "    [research_agent, maths_agent],\n",
    "    model=llm,\n",
    "    prompt=(\n",
    "        \"As a team supervisor manage a research expert and maths expert.\"\n",
    "        \"For events use, research_agent\"\n",
    "        \"For math problem, use maths_agent\"\n",
    "    )\n",
    ")"
   ]
  },
  {
   "cell_type": "code",
   "execution_count": 24,
   "id": "05ac164c",
   "metadata": {},
   "outputs": [],
   "source": [
    "app = workflow.compile()\n",
    "result = app.invoke({\n",
    "    \"messages\": [\n",
    "        {\n",
    "        \"role\": \"user\",\n",
    "        \"content\": \"what is quantum computing\"\n",
    "        }\n",
    "    ]\n",
    "})"
   ]
  },
  {
   "cell_type": "code",
   "execution_count": 25,
   "id": "600f126a",
   "metadata": {},
   "outputs": [
    {
     "name": "stdout",
     "output_type": "stream",
     "text": [
      "================================\u001b[1m Human Message \u001b[0m=================================\n",
      "\n",
      "what is quantum computing\n",
      "==================================\u001b[1m Ai Message \u001b[0m==================================\n",
      "Name: supervisor\n",
      "Tool Calls:\n",
      "  transfer_to_research_expert (call_aFGzrYVo8YHhFHdTgn26kfs8)\n",
      " Call ID: call_aFGzrYVo8YHhFHdTgn26kfs8\n",
      "  Args:\n",
      "=================================\u001b[1m Tool Message \u001b[0m=================================\n",
      "Name: transfer_to_research_expert\n",
      "\n",
      "Successfully transferred to research_expert\n",
      "==================================\u001b[1m Ai Message \u001b[0m==================================\n",
      "Name: research_expert\n",
      "\n",
      "Quantum computing is a rapidly-emerging technology that utilizes the principles of quantum mechanics to perform calculations at speeds unattainable by classical computers. It leverages unique quantum phenomena such as superposition and entanglement to process information in fundamentally different ways.\n",
      "\n",
      "Key concepts include:\n",
      "\n",
      "- **Qubits**: The basic unit of quantum information, analogous to classical bits but capable of representing multiple states simultaneously due to superposition.\n",
      "- **Superposition**: A principle that allows qubits to exist in multiple states at once, enabling quantum computers to process a vast amount of possibilities simultaneously.\n",
      "- **Entanglement**: A phenomenon where qubits become interconnected, such that the state of one qubit can depend on the state of another, no matter the distance between them.\n",
      "\n",
      "Quantum computing aims to solve complex problems that are currently beyond the reach of classical computing, offering significant performance improvements in various applications, including cryptography, optimization, and simulation of quantum systems.\n",
      "==================================\u001b[1m Ai Message \u001b[0m==================================\n",
      "Name: research_expert\n",
      "\n",
      "Transferring back to supervisor\n",
      "Tool Calls:\n",
      "  transfer_back_to_supervisor (ab7d907e-b798-4ac8-beda-581a2bf243d8)\n",
      " Call ID: ab7d907e-b798-4ac8-beda-581a2bf243d8\n",
      "  Args:\n",
      "=================================\u001b[1m Tool Message \u001b[0m=================================\n",
      "Name: transfer_back_to_supervisor\n",
      "\n",
      "Successfully transferred back to supervisor\n",
      "==================================\u001b[1m Ai Message \u001b[0m==================================\n",
      "Name: supervisor\n",
      "\n",
      "Quantum computing is a cutting-edge technology that uses the principles of quantum mechanics to perform calculations much faster than classical computers. It relies on concepts like qubits, superposition, and entanglement to process information in ways that classical systems cannot. This technology has the potential to revolutionize fields such as cryptography, optimization, and complex system simulations. \n",
      "\n",
      "If you have any more questions or need further details, feel free to ask!\n"
     ]
    }
   ],
   "source": [
    "for m in result[\"messages\"]:\n",
    "    m.pretty_print()"
   ]
  },
  {
   "cell_type": "code",
   "execution_count": 26,
   "id": "840f2e3a",
   "metadata": {},
   "outputs": [],
   "source": [
    "result = app.invoke({\n",
    "    \"messages\": [\n",
    "        {\n",
    "        \"role\": \"user\",\n",
    "        \"content\": \"what is the weather in delhi. Multiply it by 2 and add 5.\"\n",
    "        }\n",
    "    ]\n",
    "})"
   ]
  },
  {
   "cell_type": "code",
   "execution_count": 27,
   "id": "30a8bae7",
   "metadata": {},
   "outputs": [
    {
     "name": "stdout",
     "output_type": "stream",
     "text": [
      "================================\u001b[1m Human Message \u001b[0m=================================\n",
      "\n",
      "what is the weather in delhi. Multiply it by 2 and add 5.\n",
      "==================================\u001b[1m Ai Message \u001b[0m==================================\n",
      "Name: supervisor\n",
      "Tool Calls:\n",
      "  transfer_to_research_expert (call_ZEURIIMF9p7EuvRzOdJeZpQu)\n",
      " Call ID: call_ZEURIIMF9p7EuvRzOdJeZpQu\n",
      "  Args:\n",
      "=================================\u001b[1m Tool Message \u001b[0m=================================\n",
      "Name: transfer_to_research_expert\n",
      "\n",
      "Successfully transferred to research_expert\n",
      "==================================\u001b[1m Ai Message \u001b[0m==================================\n",
      "Name: research_expert\n",
      "\n",
      "The current temperature in Delhi is approximately 38 °C. If you need any further information or assistance, feel free to ask!\n",
      "==================================\u001b[1m Ai Message \u001b[0m==================================\n",
      "Name: research_expert\n",
      "\n",
      "Transferring back to supervisor\n",
      "Tool Calls:\n",
      "  transfer_back_to_supervisor (5c0e5613-05a8-4b7e-b3d4-96398b198b8f)\n",
      " Call ID: 5c0e5613-05a8-4b7e-b3d4-96398b198b8f\n",
      "  Args:\n",
      "=================================\u001b[1m Tool Message \u001b[0m=================================\n",
      "Name: transfer_back_to_supervisor\n",
      "\n",
      "Successfully transferred back to supervisor\n",
      "==================================\u001b[1m Ai Message \u001b[0m==================================\n",
      "Name: supervisor\n",
      "Tool Calls:\n",
      "  transfer_to_maths_expert (call_bS9wE3pN01lGu2XDqny3CAJ1)\n",
      " Call ID: call_bS9wE3pN01lGu2XDqny3CAJ1\n",
      "  Args:\n",
      "=================================\u001b[1m Tool Message \u001b[0m=================================\n",
      "Name: transfer_to_maths_expert\n",
      "\n",
      "Successfully transferred to maths_expert\n",
      "==================================\u001b[1m Ai Message \u001b[0m==================================\n",
      "Name: maths_expert\n",
      "\n",
      "The result of multiplying the temperature in Delhi (38 °C) by 2 is 76, and adding 5 to the temperature gives 43.\n",
      "==================================\u001b[1m Ai Message \u001b[0m==================================\n",
      "Name: maths_expert\n",
      "\n",
      "Transferring back to supervisor\n",
      "Tool Calls:\n",
      "  transfer_back_to_supervisor (997e4c57-ff95-4c8e-bd1d-d3895a8542a6)\n",
      " Call ID: 997e4c57-ff95-4c8e-bd1d-d3895a8542a6\n",
      "  Args:\n",
      "=================================\u001b[1m Tool Message \u001b[0m=================================\n",
      "Name: transfer_back_to_supervisor\n",
      "\n",
      "Successfully transferred back to supervisor\n",
      "==================================\u001b[1m Ai Message \u001b[0m==================================\n",
      "Name: supervisor\n",
      "\n",
      "The current temperature in Delhi is approximately 38 °C. When you multiply it by 2, you get 76, and adding 5 gives you a final result of 81. If you need any further assistance, feel free to ask!\n"
     ]
    }
   ],
   "source": [
    "for m in result[\"messages\"]:\n",
    "    m.pretty_print()"
   ]
  },
  {
   "cell_type": "code",
   "execution_count": null,
   "id": "8e1ff141",
   "metadata": {},
   "outputs": [],
   "source": []
  },
  {
   "cell_type": "code",
   "execution_count": null,
   "id": "5bc7080c",
   "metadata": {},
   "outputs": [],
   "source": []
  },
  {
   "cell_type": "code",
   "execution_count": null,
   "id": "820b3330",
   "metadata": {},
   "outputs": [],
   "source": []
  }
 ],
 "metadata": {
  "kernelspec": {
   "display_name": "langchain-env",
   "language": "python",
   "name": "python3"
  },
  "language_info": {
   "codemirror_mode": {
    "name": "ipython",
    "version": 3
   },
   "file_extension": ".py",
   "mimetype": "text/x-python",
   "name": "python",
   "nbconvert_exporter": "python",
   "pygments_lexer": "ipython3",
   "version": "3.10.13"
  }
 },
 "nbformat": 4,
 "nbformat_minor": 5
}
