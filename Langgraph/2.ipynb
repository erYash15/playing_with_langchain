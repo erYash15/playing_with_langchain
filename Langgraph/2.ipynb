{
 "cells": [
  {
   "cell_type": "code",
   "execution_count": 32,
   "id": "85b8c41d",
   "metadata": {},
   "outputs": [],
   "source": [
    "import os\n",
    "from dotenv import load_dotenv\n",
    "from langchain.chat_models import ChatOpenAI\n",
    "\n",
    "from langchain_community.tools import WikipediaQueryRun\n",
    "from langchain_community.utilities import WikipediaAPIWrapper"
   ]
  },
  {
   "cell_type": "code",
   "execution_count": 33,
   "id": "fd7114a9",
   "metadata": {},
   "outputs": [],
   "source": [
    "# Load environment variables\n",
    "load_dotenv()\n",
    "\n",
    "# Initialize LLM and memory\n",
    "LANGCHAIN_TRACING_V2 = \"true\"\n",
    "LANGSMITH_ENDPOINT = \"https://api.smith.langchain.com\"\n",
    "LANGSMITH_PROJECT = \"Information_Extractor\"\n",
    "LANGCHAIN_API_KEY = os.getenv(\"LANGSMITH_API_KEY\")\n",
    "OPENAI_API_KEY = os.getenv(\"GROQ_API\")\n"
   ]
  },
  {
   "cell_type": "code",
   "execution_count": 29,
   "id": "dae98b6b",
   "metadata": {},
   "outputs": [],
   "source": [
    "api_wrapper = WikipediaAPIWrapper(top_k_results=1, doc_content_chars_max=1000)\n",
    "wiki_tool = WikipediaQueryRun(api_wrapper=api_wrapper)"
   ]
  },
  {
   "cell_type": "code",
   "execution_count": 30,
   "id": "3e4fcbbf",
   "metadata": {},
   "outputs": [
    {
     "data": {
      "text/plain": [
       "'Page: Agentic AI\\nSummary: Agentic AI is a class of artificial intelligence that focuses on autonomous systems that can make decisions and perform tasks without human intervention. The independent systems automatically respond to conditions, to produce process results. The field is closely linked to agentic automation, also known as agent-based process management systems, when applied to process automation. Applications include software development, customer support, cybersecurity and business intelligence.'"
      ]
     },
     "execution_count": 30,
     "metadata": {},
     "output_type": "execute_result"
    }
   ],
   "source": [
    "wiki_tool.run({\"query\": \"Agentic AI\"})"
   ]
  },
  {
   "cell_type": "code",
   "execution_count": 31,
   "id": "25c283f1",
   "metadata": {},
   "outputs": [
    {
     "name": "stdout",
     "output_type": "stream",
     "text": [
      "LLM decision: CALL_WIKI!\n",
      "\n",
      "According to Wikipedia, Elon Musk is a South African-born entrepreneur, inventor, and business magnate. He is the CEO and CTO of SpaceX, CEO and product architect of Tesla Inc., and co-founder of Neuralink and The Boring Company.\n",
      "\n",
      "Musk was born in Pretoria, South Africa, and moved to Canada in 1992 to attend college. He transferred to the University of Pennsylvania two years later, where he graduated with a degree in economics and physics. After college, he moved to California to pursue a career in technology and entrepreneurship.\n",
      "\n",
      "Musk's first company, Zip2, which provided online content publishing software for news organizations. In 1999, he co-founded X.com, which later became PayPal, an online payment system that was acquired by eBay for $1.5 billion in 2002.\n",
      "\n",
      "In 2002, Musk founded SpaceX, with the goal of reducing space transportation costs and enabling the colonization of Mars. In 2004, he co-founded Tesla Inc., which has become one of the most successful electric vehicle manufacturers in the world.\n",
      "\n",
      "Musk has become known for his ambitious goals, such as establishing a human settlement on Mars, and his vision for a high-speed transportation system known as the Hyperloop. He has also been a vocal advocate for the need to address climate change and transition to renewable energy sources.\n",
      "\n",
      "Throughout his career, Musk has received numerous awards and honors for his innovative ventures and vision for the future.\n",
      "Wiki tool called...\n",
      "Tool Result: Page: Views of Elon Musk\n",
      "Summary: Elon Musk is the owner of multiple companies, the wealthiest individual in the world, and a former US government employee. Having rejected the conservative label, Musk has described himself as a political moderate; his views have become more right-wing over time, and have been characterized as libertarian and far-right. As the owner of Twitter, he has suppressed critics, and after his involvement in European politics, his views have received criticism from some world leaders. Musk has also expressed his opinion on topics from science and technology to religion and philosophy.\n",
      "Within the context of American politics, Musk voted for Democratic candidates from 2008 until 2020, before switching to Republican candidates in 2022, and supporting Donald Trump in 2024 who he previously feuded with. He has identified as a  \"free speech absolutist\" and has expressed support for universal basic income, gun rights, a tax on carbon emissions, and H-1B visas. Musk ha\n",
      "Final answer: It seems like the user's question was \"What are Elon Musk's views?\" or something similar. Based on the Wikipedia summary, here's a final answer:\n",
      "\n",
      "Elon Musk's views are complex and have evolved over time. He has described himself as a political moderate, but his views have shifted more to the right. He has expressed support for libertarian and far-right ideologies, and has been criticized by some world leaders. In terms of specific issues, Musk has supported universal basic income, gun rights, a carbon tax, and H-1B visas. He has also identified as a \"free speech absolutist\". In terms of political parties, Musk voted for Democratic candidates until 2020, then switched to Republican candidates in 2022, and has expressed support for Donald Trump, despite previously feuding with him.\n"
     ]
    }
   ],
   "source": [
    "# Initialize the Groq LLM through LangChain\n",
    "llm = ChatOpenAI(\n",
    "    model=\"llama3-70b-8192\",\n",
    "    base_url=\"https://api.groq.com/openai/v1\",\n",
    "    openai_api_key=OPENAI_API_KEY,\n",
    "    temperature=0.0,\n",
    ")\n",
    "\n",
    "tools = [wiki_tool]\n",
    "# llm_with_tools = llm.bind_tools(tools) # this does work directly with free models of Groq till now.\n",
    "\n",
    "question = \"Who is Elon Musk? Use Wikipedia if needed.\"\n",
    "\n",
    "# Step 1: Ask LLM to decide tool use\n",
    "decision_prompt = f\"say 'CALL_WIKI' if you want to use a Wikipedia tool. Question: {question}\"\n",
    "decision = llm.invoke(decision_prompt)\n",
    "print(\"LLM decision:\", decision.content)\n",
    "\n",
    "# Step 2: Tool call if requested\n",
    "if \"CALL_WIKI\" in decision.content:\n",
    "    print(\"Wiki tool called...\")\n",
    "    tool_result = wiki_tool.run(question)\n",
    "    print(\"Tool Result:\", tool_result)\n",
    "    followup_prompt = f\"The Wikipedia tool returned this:\\n{tool_result}\\nNow give a final answer to the user's question.\"\n",
    "else:\n",
    "    followup_prompt = decision.content  # LLM already gave the answer\n",
    "\n",
    "# Step 3: Final LLM response\n",
    "final_response = llm.invoke(followup_prompt)\n",
    "print(\"Final answer:\", final_response.content)\n"
   ]
  },
  {
   "cell_type": "code",
   "execution_count": 34,
   "id": "9975e161",
   "metadata": {},
   "outputs": [],
   "source": [
    "OPENAI_API_KEY = os.getenv(\"OPEN_API\")"
   ]
  },
  {
   "cell_type": "code",
   "execution_count": 39,
   "id": "677f1c76",
   "metadata": {},
   "outputs": [],
   "source": [
    "from langchain_openai import ChatOpenAI"
   ]
  },
  {
   "cell_type": "code",
   "execution_count": null,
   "id": "007d30ed",
   "metadata": {},
   "outputs": [],
   "source": []
  },
  {
   "cell_type": "code",
   "execution_count": null,
   "id": "f349615b",
   "metadata": {},
   "outputs": [
    {
     "data": {
      "text/plain": [
       "''"
      ]
     },
     "execution_count": 49,
     "metadata": {},
     "output_type": "execute_result"
    }
   ],
   "source": [
    "decision_prompt = f\"\"\"\n",
    "You are an AI agent. If you don't know the answer or need external knowledge, call a tool.\n",
    "Question: {question}\n",
    "\"\"\"\n",
    "\n",
    "llm = ChatOpenAI(\n",
    "    model=\"gpt-4o-mini\",\n",
    "    openai_api_key=OPENAI_API_KEY,\n",
    "    temperature=0,\n",
    ")\n",
    "\n",
    "tools = [wiki_tool]\n",
    "llm_with_tools = llm.bind_tools(tools)\n",
    "\n",
    "result = llm_with_tools.invoke([\n",
    "    {\"role\": \"user\", \"content\": decision_prompt}\n",
    "])\n",
    "result.content"
   ]
  },
  {
   "cell_type": "code",
   "execution_count": 52,
   "id": "5153763d",
   "metadata": {},
   "outputs": [
    {
     "data": {
      "text/plain": [
       "{'messages': [HumanMessage(content=\"\\nYou are an AI agent. If you don't know the answer or need external knowledge, call a tool.\\nQuestion: Who is Elon Musk? Use Wikipedia if needed.\\n\", additional_kwargs={}, response_metadata={}, id='340e946e-de91-4220-b946-665d51cc5c69'),\n",
       "  AIMessage(content='', additional_kwargs={'tool_calls': [{'id': 'call_Xi5EGRWMwFRJZ4OWUcfI8SYM', 'function': {'arguments': '{\"query\":\"Elon Musk\"}', 'name': 'wikipedia'}, 'type': 'function'}], 'refusal': None}, response_metadata={'token_usage': {'completion_tokens': 15, 'prompt_tokens': 115, 'total_tokens': 130, 'completion_tokens_details': {'accepted_prediction_tokens': 0, 'audio_tokens': 0, 'reasoning_tokens': 0, 'rejected_prediction_tokens': 0}, 'prompt_tokens_details': {'audio_tokens': 0, 'cached_tokens': 0}}, 'model_name': 'gpt-4o-mini-2024-07-18', 'system_fingerprint': 'fp_62a23a81ef', 'id': 'chatcmpl-BiJFuSHNYj1WktvdrwOottr4wVx13', 'service_tier': 'default', 'finish_reason': 'tool_calls', 'logprobs': None}, id='run--1f5d2110-2df0-4ede-8371-22e86526cf37-0', tool_calls=[{'name': 'wikipedia', 'args': {'query': 'Elon Musk'}, 'id': 'call_Xi5EGRWMwFRJZ4OWUcfI8SYM', 'type': 'tool_call'}], usage_metadata={'input_tokens': 115, 'output_tokens': 15, 'total_tokens': 130, 'input_token_details': {'audio': 0, 'cache_read': 0}, 'output_token_details': {'audio': 0, 'reasoning': 0}}),\n",
       "  ToolMessage(content=\"Page: Elon Musk\\nSummary: Elon Reeve Musk ( EE-lon; born June 28, 1971) is a businessman. He is known for his leadership of Tesla, SpaceX, X (formerly Twitter), and the Department of Government Efficiency (DOGE). Musk has been considered the wealthiest person in the world since 2021; as of May 2025, Forbes estimates his net worth to be US$424.7 billion. \\nBorn to a wealthy family in Pretoria, South Africa, Musk emigrated in 1989 to Canada. He received bachelor's degrees from the University of Pennsylvania in 1997 before moving to California, United States, to pursue business ventures. In 1995, Musk co-founded the software company Zip2. Following its sale in 1999, he co-founded X.com, an online payment company that later merged to form PayPal, which was acquired by eBay in 2002. That year, Musk also became an American citizen.\\nIn 2002, Musk founded the space technology company SpaceX, becoming its CEO and chief engineer; the company has since led innovations in reusable rockets and commer\", name='wikipedia', id='4c8ba007-ab46-4279-90f1-22eaba9a9cb0', tool_call_id='call_Xi5EGRWMwFRJZ4OWUcfI8SYM'),\n",
       "  AIMessage(content=\"Elon Reeve Musk (born June 28, 1971) is a prominent businessman known for his leadership roles in several high-profile companies, including Tesla, SpaceX, and X (formerly Twitter). He has been recognized as one of the wealthiest individuals in the world, with an estimated net worth of approximately $424.7 billion as of May 2025.\\n\\nMusk was born in Pretoria, South Africa, and emigrated to Canada in 1989. He earned bachelor's degrees from the University of Pennsylvania in 1997 before moving to California to pursue business opportunities. In 1995, he co-founded Zip2, a software company, which was sold in 1999. He then co-founded X.com, an online payment company that later merged to form PayPal, which was acquired by eBay in 2002. That same year, Musk became a U.S. citizen.\\n\\nIn 2002, he founded SpaceX, where he serves as CEO and chief engineer, leading innovations in reusable rockets and commercial space travel.\", additional_kwargs={'refusal': None}, response_metadata={'token_usage': {'completion_tokens': 213, 'prompt_tokens': 372, 'total_tokens': 585, 'completion_tokens_details': {'accepted_prediction_tokens': 0, 'audio_tokens': 0, 'reasoning_tokens': 0, 'rejected_prediction_tokens': 0}, 'prompt_tokens_details': {'audio_tokens': 0, 'cached_tokens': 0}}, 'model_name': 'gpt-4o-mini-2024-07-18', 'system_fingerprint': 'fp_34a54ae93c', 'id': 'chatcmpl-BiJFxolR98ON0RW09jUwBvGpGMSGF', 'service_tier': 'default', 'finish_reason': 'stop', 'logprobs': None}, id='run--996c6ffb-faf9-4a61-91b2-489c9ad2c4a0-0', usage_metadata={'input_tokens': 372, 'output_tokens': 213, 'total_tokens': 585, 'input_token_details': {'audio': 0, 'cache_read': 0}, 'output_token_details': {'audio': 0, 'reasoning': 0}})]}"
      ]
     },
     "execution_count": 52,
     "metadata": {},
     "output_type": "execute_result"
    }
   ],
   "source": [
    "from langgraph.prebuilt import create_react_agent\n",
    "from langchain_core.messages import HumanMessage\n",
    "\n",
    "agent_executor = create_react_agent(llm, tools)\n",
    "\n",
    "response = agent_executor.invoke({\"messages\": [HumanMessage(decision_prompt)]})\n",
    "response\n"
   ]
  },
  {
   "cell_type": "code",
   "execution_count": null,
   "id": "8241d62a",
   "metadata": {},
   "outputs": [],
   "source": []
  }
 ],
 "metadata": {
  "kernelspec": {
   "display_name": "langchain-env",
   "language": "python",
   "name": "python3"
  },
  "language_info": {
   "codemirror_mode": {
    "name": "ipython",
    "version": 3
   },
   "file_extension": ".py",
   "mimetype": "text/x-python",
   "name": "python",
   "nbconvert_exporter": "python",
   "pygments_lexer": "ipython3",
   "version": "3.10.13"
  }
 },
 "nbformat": 4,
 "nbformat_minor": 5
}
